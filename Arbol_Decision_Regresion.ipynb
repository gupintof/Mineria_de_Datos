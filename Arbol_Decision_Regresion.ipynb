{
  "nbformat": 4,
  "nbformat_minor": 0,
  "metadata": {
    "colab": {
      "provenance": []
    },
    "kernelspec": {
      "name": "python3",
      "display_name": "Python 3"
    },
    "language_info": {
      "name": "python"
    }
  },
  "cells": [
    {
      "cell_type": "code",
      "execution_count": null,
      "metadata": {
        "id": "cDWpg4zd5_1s"
      },
      "outputs": [],
      "source": [
        "# ============================================================\n",
        "# 📌 Celda 1: Instalación y carga de librerías\n",
        "# ============================================================\n",
        "#!pip install scikit-learn matplotlib seaborn pandas\n"
      ]
    },
    {
      "cell_type": "code",
      "source": [
        "# ============================================================\n",
        "# 📌 Celda 2: Importar librerías\n",
        "# ============================================================\n",
        "import numpy as np\n",
        "import pandas as pd\n",
        "import matplotlib.pyplot as plt\n",
        "import seaborn as sns\n",
        "\n",
        "from sklearn.datasets import fetch_california_housing\n",
        "from sklearn.model_selection import train_test_split\n",
        "from sklearn.tree import DecisionTreeRegressor, plot_tree\n",
        "from sklearn.metrics import mean_absolute_error, mean_squared_error, r2_score\n"
      ],
      "metadata": {
        "id": "3eydSZo_6Evp"
      },
      "execution_count": null,
      "outputs": []
    },
    {
      "cell_type": "code",
      "source": [
        "# ============================================================\n",
        "# 📌 Celda 3: Cargar dataset California Housing\n",
        "# ============================================================\n",
        "# Este dataset contiene información de precios de casas en California.\n",
        "data = fetch_california_housing(as_frame=True)\n",
        "X = data.data\n",
        "y = data.target   # variable objetivo: precio medio de la vivienda\n",
        "\n",
        "print(\"Dimensiones:\", X.shape)\n",
        "X.head()\n"
      ],
      "metadata": {
        "id": "vmx-XjhV6GTd"
      },
      "execution_count": null,
      "outputs": []
    },
    {
      "cell_type": "code",
      "source": [
        "# ============================================================\n",
        "# 📌 Celda 4: Separar en entrenamiento y prueba\n",
        "# ============================================================\n",
        "X_train, X_test, y_train, y_test = train_test_split(\n",
        "    X, y, test_size=0.3, random_state=42\n",
        ")\n",
        "\n",
        "print(\"Tamaño entrenamiento:\", X_train.shape)\n",
        "print(\"Tamaño prueba:\", X_test.shape)\n"
      ],
      "metadata": {
        "id": "z9iVQkgV6ICd"
      },
      "execution_count": null,
      "outputs": []
    },
    {
      "cell_type": "code",
      "source": [
        "# ============================================================\n",
        "# 📌 Celda 5: Árbol de regresión sin poda (overfitting)\n",
        "# ============================================================\n",
        "reg_big = DecisionTreeRegressor(random_state=42)\n",
        "reg_big.fit(X_train, y_train)\n",
        "\n",
        "# Predicciones\n",
        "y_train_pred = reg_big.predict(X_train)\n",
        "y_test_pred = reg_big.predict(X_test)\n",
        "\n",
        "# Métricas\n",
        "print(\"🔹 Árbol grande (sin poda)\")\n",
        "print(\"MAE train:\", mean_absolute_error(y_train, y_train_pred))\n",
        "print(\"MAE test:\", mean_absolute_error(y_test, y_test_pred))\n",
        "print(\"MSE test:\", mean_squared_error(y_test, y_test_pred))\n",
        "print(\"R² train:\", r2_score(y_train, y_train_pred))\n",
        "print(\"R² test:\", r2_score(y_test, y_test_pred))\n",
        "\n",
        "# Visualización del árbol (solo hasta profundidad 3 para legibilidad)\n",
        "plt.figure(figsize=(20,8))\n",
        "plot_tree(reg_big, filled=True, feature_names=X.columns, max_depth=3)\n",
        "plt.title(\"Árbol de regresión grande (sin poda, max_depth completo)\")\n",
        "plt.show()\n"
      ],
      "metadata": {
        "id": "hx6VImuG6J_8"
      },
      "execution_count": null,
      "outputs": []
    },
    {
      "cell_type": "code",
      "source": [
        "# ============================================================\n",
        "# 📌 Celda 6: Árbol de regresión podado (max_depth=5)\n",
        "# ============================================================\n",
        "reg_pruned = DecisionTreeRegressor(max_depth=5, random_state=42)\n",
        "reg_pruned.fit(X_train, y_train)\n",
        "\n",
        "# Predicciones\n",
        "y_train_pred_pruned = reg_pruned.predict(X_train)\n",
        "y_test_pred_pruned = reg_pruned.predict(X_test)\n",
        "\n",
        "# Métricas\n",
        "print(\"🔹 Árbol podado (max_depth=5)\")\n",
        "print(\"MAE train:\", mean_absolute_error(y_train, y_train_pred_pruned))\n",
        "print(\"MAE test:\", mean_absolute_error(y_test, y_test_pred_pruned))\n",
        "print(\"MSE test:\", mean_squared_error(y_test, y_test_pred_pruned))\n",
        "print(\"R² train:\", r2_score(y_train, y_train_pred_pruned))\n",
        "print(\"R² test:\", r2_score(y_test, y_test_pred_pruned))\n",
        "\n",
        "# Visualización del árbol podado\n",
        "plt.figure(figsize=(20,8))\n",
        "plot_tree(reg_pruned, filled=True, feature_names=X.columns, max_depth=3)\n",
        "plt.title(\"Árbol de regresión podado (max_depth=5)\")\n",
        "plt.show()\n"
      ],
      "metadata": {
        "id": "ldu3FGEQ6MgP"
      },
      "execution_count": null,
      "outputs": []
    },
    {
      "cell_type": "code",
      "source": [
        "# ============================================================\n",
        "# 📌 Celda 7: Comparación gráfica Predicción vs Real\n",
        "# ============================================================\n",
        "plt.figure(figsize=(10,5))\n",
        "\n",
        "# Árbol grande\n",
        "plt.subplot(1,2,1)\n",
        "plt.scatter(y_test, y_test_pred, alpha=0.3, color=\"red\")\n",
        "plt.plot([y_test.min(), y_test.max()], [y_test.min(), y_test.max()], \"k--\")\n",
        "plt.xlabel(\"Valores reales\")\n",
        "plt.ylabel(\"Predicción\")\n",
        "plt.title(\"Árbol grande (overfitting)\")\n",
        "\n",
        "# Árbol podado\n",
        "plt.subplot(1,2,2)\n",
        "plt.scatter(y_test, y_test_pred_pruned, alpha=0.3, color=\"blue\")\n",
        "plt.plot([y_test.min(), y_test.max()], [y_test.min(), y_test.max()], \"k--\")\n",
        "plt.xlabel(\"Valores reales\")\n",
        "plt.ylabel(\"Predicción\")\n",
        "plt.title(\"Árbol podado (max_depth=5)\")\n",
        "\n",
        "plt.tight_layout()\n",
        "plt.show()\n"
      ],
      "metadata": {
        "id": "vVBr7s3a6OjC"
      },
      "execution_count": null,
      "outputs": []
    },
    {
      "cell_type": "markdown",
      "source": [
        "## 📌 Conclusión\n",
        "\n",
        "El **árbol sin poda** obtiene un R² muy alto en entrenamiento, pero cae significativamente en el conjunto de prueba, mostrando un claro **sobreajuste**.  \n",
        "En cambio, el **árbol podado (max_depth=5)** tiene un rendimiento más equilibrado: menor exactitud en entrenamiento, pero mejor capacidad de generalización en test.  \n",
        "\n",
        "👉 Este ejemplo ilustra por qué **poda o limitación de hiperparámetros** es fundamental en regresión con árboles: no buscamos memorizar los datos, sino capturar patrones que sean **robustos y aplicables a nuevos casos**.\n"
      ],
      "metadata": {
        "id": "aiLxbThe6RLc"
      }
    }
  ]
}