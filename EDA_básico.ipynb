{
  "nbformat": 4,
  "nbformat_minor": 0,
  "metadata": {
    "colab": {
      "provenance": []
    },
    "kernelspec": {
      "name": "python3",
      "display_name": "Python 3"
    },
    "language_info": {
      "name": "python"
    }
  },
  "cells": [
    {
      "cell_type": "markdown",
      "source": [
        "# **EDA - Análisis Exploratorio de Datos**"
      ],
      "metadata": {
        "id": "zd4aGhDJKXEo"
      }
    },
    {
      "cell_type": "markdown",
      "source": [
        "**Carga de Bibliotecas y lectura de los datos**"
      ],
      "metadata": {
        "id": "dUdVa2n1L-0b"
      }
    },
    {
      "cell_type": "code",
      "execution_count": 15,
      "metadata": {
        "id": "SqejZGMCaqWj"
      },
      "outputs": [],
      "source": [
        "# Instalar librerías si es necesario\n",
        "# Desinstala cualquier versión incorrecta\n",
        "#!pip uninstall -y prince\n",
        "\n",
        "# Instala la versión correcta desde GitHub\n",
        "#!pip install git+https://github.com/MaxHalford/prince.git\n",
        "\n"
      ]
    },
    {
      "cell_type": "code",
      "source": [
        "\n",
        "# Importar librerías\n",
        "import pandas as pd\n",
        "import numpy as np\n",
        "import seaborn as sns\n",
        "import matplotlib.pyplot as plt\n",
        "import missingno as msno\n",
        "#import prince\n",
        "from scipy.stats import skew, variation, kstest, shapiro, norm\n",
        "from sklearn.impute import SimpleImputer\n",
        "\n",
        "\n",
        "from sklearn.preprocessing import StandardScaler\n",
        "\n",
        "import matplotlib.pyplot as plt\n",
        "import seaborn as sns\n"
      ],
      "metadata": {
        "id": "5ldFO2D1iPyw"
      },
      "execution_count": 80,
      "outputs": []
    },
    {
      "cell_type": "code",
      "source": [
        "# Leer los datos\n",
        "airq_dt = pd.read_csv(\"airq_dt.csv\")"
      ],
      "metadata": {
        "id": "gh2ozOIzatil"
      },
      "execution_count": 81,
      "outputs": []
    },
    {
      "cell_type": "markdown",
      "source": [
        "# Pasos a realizar:\n",
        "\n",
        "1. Revisar los datos cargados\n",
        "2. Analizar los datos categóricos y numéricos\n",
        "3. Revisar normalidad de los datos\n",
        "4. Corregir los NAN\n",
        "5. Corregir los OUTLIERS\n",
        "6. Escalar\n"
      ],
      "metadata": {
        "id": "Cu85Bu37KfW7"
      }
    },
    {
      "cell_type": "markdown",
      "source": [
        "# 1. Revisar los datos cargados\n"
      ],
      "metadata": {
        "id": "Mh8X-l8FK-ui"
      }
    },
    {
      "cell_type": "code",
      "source": [
        "# Dimensiones y vista previa\n",
        "print(airq_dt.shape)\n",
        "print()\n",
        "print(airq_dt.head())\n",
        "print()\n",
        "print(airq_dt.info())"
      ],
      "metadata": {
        "colab": {
          "base_uri": "https://localhost:8080/"
        },
        "id": "EffbzxySawTh",
        "outputId": "108da306-6454-4771-ac5e-2295ea0749ff"
      },
      "execution_count": 82,
      "outputs": [
        {
          "output_type": "stream",
          "name": "stdout",
          "text": [
            "(100, 6)\n",
            "\n",
            "   Ozono  RadSol  Vient  Temp  Mes  Dia\n",
            "0   21.0   259.0   15.5    76    9   12\n",
            "1   32.0    92.0   12.0    61    5   24\n",
            "2   20.0    37.0    9.2    65    6   18\n",
            "3    NaN   139.0    8.6    82    7   11\n",
            "4   28.0   273.0   11.5    82    8   13\n",
            "\n",
            "<class 'pandas.core.frame.DataFrame'>\n",
            "RangeIndex: 100 entries, 0 to 99\n",
            "Data columns (total 6 columns):\n",
            " #   Column  Non-Null Count  Dtype  \n",
            "---  ------  --------------  -----  \n",
            " 0   Ozono   82 non-null     float64\n",
            " 1   RadSol  96 non-null     float64\n",
            " 2   Vient   100 non-null    float64\n",
            " 3   Temp    100 non-null    int64  \n",
            " 4   Mes     100 non-null    int64  \n",
            " 5   Dia     100 non-null    int64  \n",
            "dtypes: float64(3), int64(3)\n",
            "memory usage: 4.8 KB\n",
            "None\n"
          ]
        }
      ]
    },
    {
      "cell_type": "code",
      "source": [
        "# Visualizar datos faltantes\n",
        "print(airq_dt.isnull().sum())\n"
      ],
      "metadata": {
        "colab": {
          "base_uri": "https://localhost:8080/"
        },
        "id": "2_ko7dFraz-G",
        "outputId": "d596f537-9afb-4c09-9ad4-75ecb39df96b"
      },
      "execution_count": 83,
      "outputs": [
        {
          "output_type": "stream",
          "name": "stdout",
          "text": [
            "Ozono     18\n",
            "RadSol     4\n",
            "Vient      0\n",
            "Temp       0\n",
            "Mes        0\n",
            "Dia        0\n",
            "dtype: int64\n"
          ]
        }
      ]
    },
    {
      "cell_type": "markdown",
      "source": [
        "\n",
        "# 2. Analizar los datos categóricos y numéricos\n"
      ],
      "metadata": {
        "id": "akXQLYGqLQLG"
      }
    },
    {
      "cell_type": "code",
      "source": [
        "# Diagnóstico de variables categóricas\n",
        "airq_dt['Mes.ch'] = airq_dt['Mes'].astype(str)\n",
        "print(airq_dt['Mes.ch'].value_counts())"
      ],
      "metadata": {
        "colab": {
          "base_uri": "https://localhost:8080/"
        },
        "id": "xTiVgJZya2SC",
        "outputId": "997684a3-2887-4fbe-da5f-7bb4628a3f66"
      },
      "execution_count": 84,
      "outputs": [
        {
          "output_type": "stream",
          "name": "stdout",
          "text": [
            "Mes.ch\n",
            "8    24\n",
            "5    22\n",
            "9    21\n",
            "7    17\n",
            "6    16\n",
            "Name: count, dtype: int64\n"
          ]
        }
      ]
    },
    {
      "cell_type": "code",
      "source": [
        "# Gráfico de barras\n",
        "sns.countplot(x='Mes', data=airq_dt)\n",
        "plt.xlabel(\"Mes\")\n",
        "plt.ylabel(\"Frecuencia\")\n",
        "plt.show()"
      ],
      "metadata": {
        "colab": {
          "base_uri": "https://localhost:8080/",
          "height": 452
        },
        "id": "p4H7goWCa4xo",
        "outputId": "02c93c7b-9c11-4874-d4a8-d5e07334b951"
      },
      "execution_count": 85,
      "outputs": [
        {
          "output_type": "display_data",
          "data": {
            "text/plain": [
              "<Figure size 640x480 with 1 Axes>"
            ],
            "image/png": "[encoded data removed]"
          },
          "metadata": {}
        }
      ]
    },
    {
      "cell_type": "code",
      "source": [
        "# Análisis de variables numéricas\n",
        "print(airq_dt['Ozono'].describe())\n",
        "print(\"Coeficiente de asimetría:\", skew(airq_dt['Ozono'].dropna()))\n",
        "print(\"Coeficiente de variación:\", variation(airq_dt['Ozono'].dropna()))"
      ],
      "metadata": {
        "colab": {
          "base_uri": "https://localhost:8080/"
        },
        "id": "UmE-Sh3oa7Q4",
        "outputId": "abc43925-2b1f-4668-f70f-9a324bc1db5a"
      },
      "execution_count": 86,
      "outputs": [
        {
          "output_type": "stream",
          "name": "stdout",
          "text": [
            "count     82.000000\n",
            "mean      41.073171\n",
            "std       35.022314\n",
            "min        1.000000\n",
            "25%       16.000000\n",
            "50%       29.000000\n",
            "75%       51.500000\n",
            "max      168.000000\n",
            "Name: Ozono, dtype: float64\n",
            "Coeficiente de asimetría: 1.3931633543556752\n",
            "Coeficiente de variación: 0.8474658192068988\n"
          ]
        }
      ]
    },
    {
      "cell_type": "markdown",
      "source": [
        "\n",
        "# 3. Revisar normalidad de los datos\n"
      ],
      "metadata": {
        "id": "GCb8TsJ3LY1-"
      }
    },
    {
      "cell_type": "code",
      "source": [
        "# Histograma con curva de densidad\n",
        "# Este gráfico muestra la distribución de los valores de ozono, combinando:\n",
        "# - un histograma normalizado a densidad\n",
        "# - una curva de densidad empírica (kde)\n",
        "# - y una curva de densidad teórica normal para comparación visual\n",
        "\n",
        "# Histograma y densidad empírica (KDE)\n",
        "sns.histplot(airq_dt['Ozono'].dropna(), kde=True, stat=\"density\", color=\"green\", bins=30)\n",
        "\n",
        "# Media y desviación estándar de Ozono (usadas para la curva normal teórica)\n",
        "mean_oz = airq_dt['Ozono'].mean()\n",
        "std_oz = airq_dt['Ozono'].std()\n",
        "\n",
        "# Crear rango de valores en el eje X para evaluar la densidad normal\n",
        "xmin, xmax = plt.xlim()\n",
        "x = np.linspace(xmin, xmax, 100)\n",
        "\n",
        "# Calcular la densidad de la distribución normal con media y desviación estándar calculadas\n",
        "p = norm.pdf(x, mean_oz, std_oz)\n",
        "\n",
        "# Agregar la curva normal en rojo\n",
        "plt.plot(x, p, 'r', linewidth=2)\n",
        "\n",
        "# Etiquetas y visualización\n",
        "plt.xlabel(\"Ozono\")\n",
        "plt.ylabel(\"Densidad\")\n",
        "plt.show()\n"
      ],
      "metadata": {
        "colab": {
          "base_uri": "https://localhost:8080/",
          "height": 449
        },
        "id": "yhFxAnBwa-cj",
        "outputId": "6c9dc7fb-5ee4-4ba2-88b6-e5d895098e26"
      },
      "execution_count": 87,
      "outputs": [
        {
          "output_type": "display_data",
          "data": {
            "text/plain": [
              "<Figure size 640x480 with 1 Axes>"
            ],
            "image/png": "[encoded data removed]"
          },
          "metadata": {}
        }
      ]
    },
    {
      "cell_type": "code",
      "source": [
        "# Distribución empírica acumulada (ECDF)\n",
        "# Este gráfico muestra la función de distribución acumulada empírica de los valores de ozono.\n",
        "# Permite visualizar cómo se distribuyen los datos y estimar percentiles visualmente.\n",
        "\n",
        "# Graficar la ECDF de la variable 'Ozono'\n",
        "sns.ecdfplot(data=airq_dt, x='Ozono')\n",
        "\n",
        "# Etiquetas de los ejes\n",
        "plt.xlabel(\"Ozono\")      # Valores de ozono en el eje X\n",
        "plt.ylabel(\"F(x)\")       # Probabilidad acumulada en el eje Y\n",
        "\n",
        "# Mostrar el gráfico\n",
        "plt.show()\n"
      ],
      "metadata": {
        "colab": {
          "base_uri": "https://localhost:8080/",
          "height": 455
        },
        "id": "2wq4dYwVbBSr",
        "outputId": "7b24ecaf-a922-4a35-c244-9724b5374b8f"
      },
      "execution_count": 88,
      "outputs": [
        {
          "output_type": "display_data",
          "data": {
            "text/plain": [
              "<Figure size 640x480 with 1 Axes>"
            ],
            "image/png": "[encoded data removed]"
          },
          "metadata": {}
        }
      ]
    },
    {
      "cell_type": "code",
      "source": [
        "# Q-Q plot (Quantile-Quantile plot)\n",
        "# Este gráfico compara los cuantiles de la variable 'Ozono' con los cuantiles de una distribución normal.\n",
        "# Si los datos siguen una distribución normal, los puntos deberían alinearse cerca de la línea diagonal.\n",
        "\n",
        "# Importar statsmodels para usar la función qqplot\n",
        "import statsmodels.api as sm\n",
        "\n",
        "# Crear el gráfico Q-Q usando los datos de Ozono sin valores nulos\n",
        "# line='s' dibuja una línea de referencia con la misma pendiente y centro que los datos teóricos\n",
        "sm.qqplot(airq_dt['Ozono'].dropna(), line='s')\n",
        "\n",
        "# Título del gráfico\n",
        "plt.title(\"Q-Q Plot\")\n",
        "\n",
        "# Mostrar el gráfico\n",
        "plt.show()\n"
      ],
      "metadata": {
        "colab": {
          "base_uri": "https://localhost:8080/",
          "height": 472
        },
        "id": "R70leiaDbDlR",
        "outputId": "64bbfe52-da9a-4032-85d3-5adbd14df4c0"
      },
      "execution_count": 89,
      "outputs": [
        {
          "output_type": "display_data",
          "data": {
            "text/plain": [
              "<Figure size 640x480 with 1 Axes>"
            ],
            "image/png": "[encoded data removed]"
          },
          "metadata": {}
        }
      ]
    },
    {
      "cell_type": "code",
      "source": [
        "# Pruebas de normalidad\n",
        "# Estas pruebas estadísticas permiten evaluar si los datos siguen una distribución normal.\n",
        "# Se utilizan para validar supuestos antes de aplicar ciertos métodos estadísticos.\n",
        "\n",
        "# 1. Kolmogorov-Smirnov (KS) test\n",
        "# Compara la distribución acumulada empírica de los datos con una distribución teórica (en este caso, normal).\n",
        "# Ho: los datos siguen una distribución normal con media y desviación estándar dadas\n",
        "# H1: los datos no siguen esa distribución normal\n",
        "\n",
        "from scipy.stats import kstest, shapiro\n",
        "\n",
        "# Parámetros de la distribución normal teórica\n",
        "mean_oz = airq_dt['Ozono'].mean()\n",
        "std_oz = airq_dt['Ozono'].std()\n",
        "\n",
        "# Aplicar KS test a los datos de Ozono\n",
        "print(\"KS Test:\", kstest(airq_dt['Ozono'].dropna(), 'norm', args=(mean_oz, std_oz)))\n",
        "\n",
        "# 2. Shapiro-Wilk test para Ozono\n",
        "# Esta prueba también evalúa la normalidad, pero es más precisa para muestras pequeñas y medianas (< 5000 obs).\n",
        "# Ho: los datos provienen de una distribución normal\n",
        "# H1: los datos no provienen de una distribución normal\n",
        "print(\"Shapiro Ozono:\", shapiro(airq_dt['Ozono'].dropna()))\n",
        "\n",
        "# 3. Shapiro-Wilk test para la variable Vient\n",
        "print(\"Shapiro Vient:\", shapiro(airq_dt['Vient'].dropna()))\n",
        "\n",
        "#Cada una de las pruebas devuelve un estadístico y un valor-p (p-value):\n",
        "\n",
        "#Si el valor-p > 0.05, no se rechaza la hipótesis nula → los datos podrían ser normales.\n",
        "\n",
        "#Si el valor-p < 0.05, se rechaza la hipótesis nula → los datos no siguen una distribución normal."
      ],
      "metadata": {
        "colab": {
          "base_uri": "https://localhost:8080/"
        },
        "id": "uzqm0T3BbGE4",
        "outputId": "6f5e40fa-5339-4165-e80d-60a10e7ee103"
      },
      "execution_count": 90,
      "outputs": [
        {
          "output_type": "stream",
          "name": "stdout",
          "text": [
            "KS Test: KstestResult(statistic=np.float64(0.1699433499657083), pvalue=np.float64(0.01537072655916777), statistic_location=np.float64(39.0), statistic_sign=np.int8(1))\n",
            "Shapiro Ozono: ShapiroResult(statistic=np.float64(0.8427469223803885), pvalue=np.float64(7.036738454987334e-08))\n",
            "Shapiro Vient: ShapiroResult(statistic=np.float64(0.9833954264900511), pvalue=np.float64(0.2419978523575051))\n"
          ]
        }
      ]
    },
    {
      "cell_type": "markdown",
      "source": [
        "\n",
        "# 4. Corregir los NAN\n"
      ],
      "metadata": {
        "id": "AmkQRuObLgtK"
      }
    },
    {
      "cell_type": "code",
      "source": [
        "airq_dt.info()"
      ],
      "metadata": {
        "colab": {
          "base_uri": "https://localhost:8080/"
        },
        "id": "iXEPtipxMYCr",
        "outputId": "759e710c-5159-477a-bca3-0da83b477d6b"
      },
      "execution_count": 91,
      "outputs": [
        {
          "output_type": "stream",
          "name": "stdout",
          "text": [
            "<class 'pandas.core.frame.DataFrame'>\n",
            "RangeIndex: 100 entries, 0 to 99\n",
            "Data columns (total 7 columns):\n",
            " #   Column  Non-Null Count  Dtype  \n",
            "---  ------  --------------  -----  \n",
            " 0   Ozono   82 non-null     float64\n",
            " 1   RadSol  96 non-null     float64\n",
            " 2   Vient   100 non-null    float64\n",
            " 3   Temp    100 non-null    int64  \n",
            " 4   Mes     100 non-null    int64  \n",
            " 5   Dia     100 non-null    int64  \n",
            " 6   Mes.ch  100 non-null    object \n",
            "dtypes: float64(3), int64(3), object(1)\n",
            "memory usage: 5.6+ KB\n"
          ]
        }
      ]
    },
    {
      "cell_type": "code",
      "source": [
        "# Gráfico de barras simple para visualizar valores faltantes por variable\n",
        "\n",
        "# Calcular cantidad de valores nulos por columna\n",
        "missing_counts = airq_dt.isnull().sum()\n",
        "\n",
        "# Filtrar solo las columnas con al menos un valor perdido\n",
        "missing_counts = missing_counts[missing_counts > 0]\n",
        "\n",
        "# Graficar\n",
        "missing_counts.plot(kind='bar', color='tomato', edgecolor='black')\n",
        "plt.title(\"Conteo de valores faltantes por variable\")\n",
        "plt.ylabel(\"Cantidad de NA\")\n",
        "plt.xlabel(\"Variable\")\n",
        "plt.xticks(rotation=45)\n",
        "plt.grid(axis='y', linestyle='--', alpha=0.7)\n",
        "plt.tight_layout()\n",
        "plt.show()\n"
      ],
      "metadata": {
        "colab": {
          "base_uri": "https://localhost:8080/",
          "height": 487
        },
        "id": "wXfnZ4FFbQFi",
        "outputId": "88baf3f2-9c34-4fca-970e-b2d766881091"
      },
      "execution_count": 92,
      "outputs": [
        {
          "output_type": "display_data",
          "data": {
            "text/plain": [
              "<Figure size 640x480 with 1 Axes>"
            ],
            "image/png": "[encoded data removed]"
          },
          "metadata": {}
        }
      ]
    },
    {
      "cell_type": "code",
      "source": [
        "# Imputación de datos faltantes por la media (forma recomendada)\n",
        "# Se crea una nueva columna 'Oz.imp' con los mismos valores de 'Ozono',\n",
        "# pero reemplazando los NA por la media\n",
        "\n",
        "airq_dt['Oz.imp'] = airq_dt['Ozono'].fillna(airq_dt['Ozono'].mean())\n",
        "\n",
        "# Verificar un valor imputado (por ejemplo, fila 4)\n",
        "print(airq_dt.loc[4, 'Oz.imp'])\n"
      ],
      "metadata": {
        "colab": {
          "base_uri": "https://localhost:8080/"
        },
        "id": "HP5YL-zZbTSC",
        "outputId": "4f9d8560-b0a3-44e8-eb5c-d5dfef38cdcf"
      },
      "execution_count": 93,
      "outputs": [
        {
          "output_type": "stream",
          "name": "stdout",
          "text": [
            "28.0\n"
          ]
        }
      ]
    },
    {
      "cell_type": "code",
      "source": [
        "airq_dt.info()"
      ],
      "metadata": {
        "colab": {
          "base_uri": "https://localhost:8080/"
        },
        "id": "-6VhRgR1M4AA",
        "outputId": "98caa4d7-5817-40db-d253-6165be109c92"
      },
      "execution_count": 94,
      "outputs": [
        {
          "output_type": "stream",
          "name": "stdout",
          "text": [
            "<class 'pandas.core.frame.DataFrame'>\n",
            "RangeIndex: 100 entries, 0 to 99\n",
            "Data columns (total 8 columns):\n",
            " #   Column  Non-Null Count  Dtype  \n",
            "---  ------  --------------  -----  \n",
            " 0   Ozono   82 non-null     float64\n",
            " 1   RadSol  96 non-null     float64\n",
            " 2   Vient   100 non-null    float64\n",
            " 3   Temp    100 non-null    int64  \n",
            " 4   Mes     100 non-null    int64  \n",
            " 5   Dia     100 non-null    int64  \n",
            " 6   Mes.ch  100 non-null    object \n",
            " 7   Oz.imp  100 non-null    float64\n",
            "dtypes: float64(4), int64(3), object(1)\n",
            "memory usage: 6.4+ KB\n"
          ]
        }
      ]
    },
    {
      "cell_type": "code",
      "source": [
        "# Imputación múltiple (versión simple usando SimpleImputer con media)\n",
        "# Este ejemplo aplica imputación por la media a varias columnas del DataFrame.\n",
        "# Es útil cuando quieres imputar varios campos numéricos de forma consistente.\n",
        "\n",
        "from sklearn.impute import SimpleImputer\n",
        "\n",
        "# Seleccionar las primeras 6 columnas del DataFrame\n",
        "# Puedes ajustar esto según las columnas que realmente quieras imputar\n",
        "imp_cols = airq_dt.columns[:6]\n",
        "\n",
        "# Crear un imputador que reemplazará los valores faltantes con la media de cada columna\n",
        "imp = SimpleImputer(strategy='mean')\n",
        "\n",
        "# Aplicar la imputación y reconstruir un DataFrame con los mismos nombres de columna\n",
        "airq_imp_df = pd.DataFrame(imp.fit_transform(airq_dt[imp_cols]), columns=imp_cols)\n",
        "\n",
        "# Mostrar las primeras filas del nuevo DataFrame imputado\n",
        "print(airq_imp_df.head())\n"
      ],
      "metadata": {
        "colab": {
          "base_uri": "https://localhost:8080/"
        },
        "id": "IbDWxDdKbWV3",
        "outputId": "93d917ab-850e-4420-df19-59c0d7aa196b"
      },
      "execution_count": 95,
      "outputs": [
        {
          "output_type": "stream",
          "name": "stdout",
          "text": [
            "       Ozono  RadSol  Vient  Temp  Mes   Dia\n",
            "0  21.000000   259.0   15.5  76.0  9.0  12.0\n",
            "1  32.000000    92.0   12.0  61.0  5.0  24.0\n",
            "2  20.000000    37.0    9.2  65.0  6.0  18.0\n",
            "3  41.073171   139.0    8.6  82.0  7.0  11.0\n",
            "4  28.000000   273.0   11.5  82.0  8.0  13.0\n"
          ]
        }
      ]
    },
    {
      "cell_type": "code",
      "source": [
        "airq_imp_df.info()"
      ],
      "metadata": {
        "colab": {
          "base_uri": "https://localhost:8080/"
        },
        "id": "6JQQtonXNXR2",
        "outputId": "c91edc16-be2a-4029-c1a7-3a51eabf3b6d"
      },
      "execution_count": 96,
      "outputs": [
        {
          "output_type": "stream",
          "name": "stdout",
          "text": [
            "<class 'pandas.core.frame.DataFrame'>\n",
            "RangeIndex: 100 entries, 0 to 99\n",
            "Data columns (total 6 columns):\n",
            " #   Column  Non-Null Count  Dtype  \n",
            "---  ------  --------------  -----  \n",
            " 0   Ozono   100 non-null    float64\n",
            " 1   RadSol  100 non-null    float64\n",
            " 2   Vient   100 non-null    float64\n",
            " 3   Temp    100 non-null    float64\n",
            " 4   Mes     100 non-null    float64\n",
            " 5   Dia     100 non-null    float64\n",
            "dtypes: float64(6)\n",
            "memory usage: 4.8 KB\n"
          ]
        }
      ]
    },
    {
      "cell_type": "markdown",
      "source": [
        "\n",
        "\n",
        "# 5. Corregir los OUTLIERS\n",
        "\n"
      ],
      "metadata": {
        "id": "j18mtKmmLt-j"
      }
    },
    {
      "cell_type": "code",
      "source": [
        "# Detección de valores atípicos usando el criterio del rango intercuartil (IQR)\n",
        "# Este método es útil para identificar datos extremos sin asumir una distribución específica.\n",
        "\n",
        "# 1. Calcular el primer cuartil (Q1) → 25% de los datos están por debajo de este valor\n",
        "Q1 = airq_dt['Ozono'].quantile(0.25)\n",
        "\n",
        "# 2. Calcular el tercer cuartil (Q3) → 75% de los datos están por debajo de este valor\n",
        "Q3 = airq_dt['Ozono'].quantile(0.75)\n",
        "\n",
        "# 3. Calcular el rango intercuartil (IQR) → Q3 - Q1\n",
        "IQR = Q3 - Q1\n",
        "\n",
        "# 4. Definir los límites para detectar outliers:\n",
        "# - Límite inferior (LI): Q1 - 1.5 * IQR\n",
        "# - Límite superior (LS): Q3 + 1.5 * IQR\n",
        "LI = Q1 - 1.5 * IQR\n",
        "LS = Q3 + 1.5 * IQR\n",
        "\n",
        "# 5. Identificar los valores atípicos:\n",
        "# - Valores por encima del límite superior\n",
        "outliers_sup = airq_dt['Ozono'] >= LS\n",
        "\n",
        "# - Valores por debajo del límite inferior\n",
        "outliers_inf = airq_dt['Ozono'] <= LI\n",
        "\n",
        "# 6. Imprimir los valores detectados como atípicos\n",
        "print(\"Valores atípicos superiores:\", airq_dt['Ozono'][outliers_sup])\n",
        "print(\"Valores atípicos inferiores:\", airq_dt['Ozono'][outliers_inf])\n"
      ],
      "metadata": {
        "colab": {
          "base_uri": "https://localhost:8080/"
        },
        "id": "z5QDJ-fQbKg-",
        "outputId": "46f0a76b-78fc-4898-a878-4f557e72d793"
      },
      "execution_count": 97,
      "outputs": [
        {
          "output_type": "stream",
          "name": "stdout",
          "text": [
            "Valores atípicos superiores: 15    118.0\n",
            "20    110.0\n",
            "51    135.0\n",
            "56    115.0\n",
            "66    122.0\n",
            "91    168.0\n",
            "Name: Ozono, dtype: float64\n",
            "Valores atípicos inferiores: Series([], Name: Ozono, dtype: float64)\n"
          ]
        }
      ]
    },
    {
      "cell_type": "code",
      "source": [
        "# Boxplot general y por mes\n",
        "sns.boxplot(y='Ozono', data=airq_dt)\n",
        "plt.show()\n",
        "sns.boxplot(x='Mes', y='Ozono', data=airq_dt)\n",
        "plt.show()"
      ],
      "metadata": {
        "colab": {
          "base_uri": "https://localhost:8080/",
          "height": 849
        },
        "id": "YwGUn8t0bNn1",
        "outputId": "47c6f5d1-34ec-4b1d-a28a-6181ed870966"
      },
      "execution_count": 56,
      "outputs": [
        {
          "output_type": "display_data",
          "data": {
            "text/plain": [
              "<Figure size 640x480 with 1 Axes>"
            ],
            "image/png": "[encoded data removed]"
          },
          "metadata": {}
        },
        {
          "output_type": "display_data",
          "data": {
            "text/plain": [
              "<Figure size 640x480 with 1 Axes>"
            ],
            "image/png": "[encoded data removed]"
          },
          "metadata": {}
        }
      ]
    },
    {
      "cell_type": "code",
      "source": [
        "# ================================================================\n",
        "# Corrección de outliers usando Q1, Q3, IQR y límites LI/LS ya calculados\n",
        "\n",
        "# ================================================================\n",
        "\n",
        "\n",
        "df_final = airq_dt.copy()\n",
        "\n",
        "# ====================================================\n",
        "# Imputación iterativa de outliers en TODAS las variables numéricas\n",
        "# hasta que no queden outliers (usando la mediana)\n",
        "# ====================================================\n",
        "\n",
        "df_final = df_limpio.copy()\n",
        "cols_num = df_final.select_dtypes(include='number').columns\n",
        "\n",
        "cambio = True\n",
        "while cambio:\n",
        "    cambio = False\n",
        "    for col in cols_num:\n",
        "        q1 = df_final[col].quantile(0.25)\n",
        "        q3 = df_final[col].quantile(0.75)\n",
        "        iqr = q3 - q1\n",
        "        low = q1 - 1.5 * iqr\n",
        "        high = q3 + 1.5 * iqr\n",
        "        mask = (df_final[col] < low) | (df_final[col] > high)\n",
        "        if mask.sum() > 0:\n",
        "            mediana = df_final[col].median()\n",
        "            df_final.loc[mask, col] = mediana\n",
        "            cambio = True\n",
        "\n",
        "print(\"✅ No quedaron outliers (según el criterio IQR).\")\n",
        "\n",
        "# Boxplot final\n",
        "plt.figure(figsize=(10,6))\n",
        "sns.boxplot(data=df_final[cols_num])\n",
        "plt.title(\"Boxplots después de imputación iterativa con la mediana\")\n",
        "plt.xticks(rotation=45)\n",
        "plt.show()\n",
        "\n",
        "\n",
        "\n"
      ],
      "metadata": {
        "colab": {
          "base_uri": "https://localhost:8080/",
          "height": 594
        },
        "id": "9yW1JMSMpx33",
        "outputId": "76ba6408-0a1e-4ee0-bebc-3083631ed9e8"
      },
      "execution_count": 98,
      "outputs": [
        {
          "output_type": "stream",
          "name": "stdout",
          "text": [
            "✅ No quedaron outliers (según el criterio IQR).\n"
          ]
        },
        {
          "output_type": "display_data",
          "data": {
            "text/plain": [
              "<Figure size 1000x600 with 1 Axes>"
            ],
            "image/png": "[encoded data removed]"
          },
          "metadata": {}
        }
      ]
    },
    {
      "cell_type": "code",
      "source": [
        "# ====================================================\n",
        "# Boxplots comparativos: antes vs después de limpiar\n",
        "# ====================================================\n",
        "\n",
        "\n",
        "# Solo columnas numéricas\n",
        "num_cols = df_final.select_dtypes(include='number').columns\n",
        "\n",
        "fig, axes = plt.subplots(1, 2, figsize=(16,6), sharey=True)\n",
        "\n",
        "# Boxplot antes (df_original)\n",
        "sns.boxplot(data=airq_dt[num_cols], ax=axes[0])\n",
        "axes[0].set_title(\"Antes (df_original)\")\n",
        "axes[0].tick_params(axis='x', rotation=45)\n",
        "\n",
        "# Boxplot después (df_limpio)\n",
        "sns.boxplot(data=df_final[num_cols], ax=axes[1])\n",
        "axes[1].set_title(\"Después (df_limpio)\")\n",
        "axes[1].tick_params(axis='x', rotation=45)\n",
        "\n",
        "plt.suptitle(\"Comparación de outliers antes y después\", fontsize=14)\n",
        "plt.tight_layout()\n",
        "plt.show()\n",
        "\n",
        "\n"
      ],
      "metadata": {
        "colab": {
          "base_uri": "https://localhost:8080/",
          "height": 610
        },
        "id": "w-8m8H9XSKwV",
        "outputId": "54793f58-19c4-497c-eb13-6f2854dea9b2"
      },
      "execution_count": 99,
      "outputs": [
        {
          "output_type": "display_data",
          "data": {
            "text/plain": [
              "<Figure size 1600x600 with 2 Axes>"
            ],
            "image/png": "[encoded data removed]"
          },
          "metadata": {}
        }
      ]
    },
    {
      "cell_type": "markdown",
      "source": [
        "# 6. Escalar"
      ],
      "metadata": {
        "id": "_eBqveeqs3pl"
      }
    },
    {
      "cell_type": "code",
      "source": [
        "# ====================================================\n",
        "# Eliminar la variable 'Ozono' y escalar todo el DataFrame\n",
        "# ====================================================\n",
        "\n",
        "\n",
        "# Copia del df_final y eliminar la variable 'Ozono' y 'Mes.ch'\n",
        "#\n",
        "df_scaled = df_final.drop(columns=['Ozono', 'Mes.ch']).copy()\n",
        "\n",
        "# Seleccionar solo columnas numéricas\n",
        "num_cols = df_scaled.select_dtypes(include='number').columns\n",
        "\n",
        "# Escalar con StandardScaler\n",
        "scaler = StandardScaler()\n",
        "df_scaled[num_cols] = scaler.fit_transform(df_scaled[num_cols])\n",
        "\n",
        "print(\"✅ DataFrame sin escalado con la variable 'Ozono'.\")\n",
        "display(df_final.head())\n",
        "\n",
        "print(\"✅ DataFrame escalado sin la variable 'Ozono'.\")\n",
        "display(df_scaled.head())"
      ],
      "metadata": {
        "colab": {
          "base_uri": "https://localhost:8080/",
          "height": 432
        },
        "id": "Lgc2PpJxs6US",
        "outputId": "8c4bb72f-b370-4748-ce89-9d3dd9fde343"
      },
      "execution_count": 102,
      "outputs": [
        {
          "output_type": "stream",
          "name": "stdout",
          "text": [
            "✅ DataFrame sin escalado con la variable 'Ozono'.\n"
          ]
        },
        {
          "output_type": "display_data",
          "data": {
            "text/plain": [
              "   Ozono  RadSol  Vient  Temp  Mes  Dia Mes.ch     Oz.imp\n",
              "0   21.0   259.0   15.5    76    9   12      9  21.000000\n",
              "1   32.0    92.0   12.0    61    5   24      5  32.000000\n",
              "2   20.0    37.0    9.2    65    6   18      6  20.000000\n",
              "3    NaN   139.0    8.6    82    7   11      7  41.073171\n",
              "4   28.0   273.0   11.5    82    8   13      8  28.000000"
            ],
            "text/html": [
              "\n",
              "  <div id=\"df-7403c046-1899-4ed3-bf41-4943e3e4c2a4\" class=\"colab-df-container\">\n",
              "    <div>\n",
              "<style scoped>\n",
              "    .dataframe tbody tr th:only-of-type {\n",
              "        vertical-align: middle;\n",
              "    }\n",
              "\n",
              "    .dataframe tbody tr th {\n",
              "        vertical-align: top;\n",
              "    }\n",
              "\n",
              "    .dataframe thead th {\n",
              "        text-align: right;\n",
              "    }\n",
              "</style>\n",
              "<table border=\"1\" class=\"dataframe\">\n",
              "  <thead>\n",
              "    <tr style=\"text-align: right;\">\n",
              "      <th></th>\n",
              "      <th>Ozono</th>\n",
              "      <th>RadSol</th>\n",
              "      <th>Vient</th>\n",
              "      <th>Temp</th>\n",
              "      <th>Mes</th>\n",
              "      <th>Dia</th>\n",
              "      <th>Mes.ch</th>\n",
              "      <th>Oz.imp</th>\n",
              "    </tr>\n",
              "  </thead>\n",
              "  <tbody>\n",
              "    <tr>\n",
              "      <th>0</th>\n",
              "      <td>21.0</td>\n",
              "      <td>259.0</td>\n",
              "      <td>15.5</td>\n",
              "      <td>76</td>\n",
              "      <td>9</td>\n",
              "      <td>12</td>\n",
              "      <td>9</td>\n",
              "      <td>21.000000</td>\n",
              "    </tr>\n",
              "    <tr>\n",
              "      <th>1</th>\n",
              "      <td>32.0</td>\n",
              "      <td>92.0</td>\n",
              "      <td>12.0</td>\n",
              "      <td>61</td>\n",
              "      <td>5</td>\n",
              "      <td>24</td>\n",
              "      <td>5</td>\n",
              "      <td>32.000000</td>\n",
              "    </tr>\n",
              "    <tr>\n",
              "      <th>2</th>\n",
              "      <td>20.0</td>\n",
              "      <td>37.0</td>\n",
              "      <td>9.2</td>\n",
              "      <td>65</td>\n",
              "      <td>6</td>\n",
              "      <td>18</td>\n",
              "      <td>6</td>\n",
              "      <td>20.000000</td>\n",
              "    </tr>\n",
              "    <tr>\n",
              "      <th>3</th>\n",
              "      <td>NaN</td>\n",
              "      <td>139.0</td>\n",
              "      <td>8.6</td>\n",
              "      <td>82</td>\n",
              "      <td>7</td>\n",
              "      <td>11</td>\n",
              "      <td>7</td>\n",
              "      <td>41.073171</td>\n",
              "    </tr>\n",
              "    <tr>\n",
              "      <th>4</th>\n",
              "      <td>28.0</td>\n",
              "      <td>273.0</td>\n",
              "      <td>11.5</td>\n",
              "      <td>82</td>\n",
              "      <td>8</td>\n",
              "      <td>13</td>\n",
              "      <td>8</td>\n",
              "      <td>28.000000</td>\n",
              "    </tr>\n",
              "  </tbody>\n",
              "</table>\n",
              "</div>\n",
              "    <div class=\"colab-df-buttons\">\n",
              "\n",
              "  <div class=\"colab-df-container\">\n",
              "    <button class=\"colab-df-convert\" onclick=\"convertToInteractive('df-7403c046-1899-4ed3-bf41-4943e3e4c2a4')\"\n",
              "            title=\"Convert this dataframe to an interactive table.\"\n",
              "            style=\"display:none;\">\n",
              "\n",
              "  <svg xmlns=\"http://www.w3.org/2000/svg\" height=\"24px\" viewBox=\"0 -960 960 960\">\n",
              "    <path d=\"M120-120v-720h720v720H120Zm60-500h600v-160H180v160Zm220 220h160v-160H400v160Zm0 220h160v-160H400v160ZM180-400h160v-160H180v160Zm440 0h160v-160H620v160ZM180-180h160v-160H180v160Zm440 0h160v-160H620v160Z\"/>\n",
              "  </svg>\n",
              "    </button>\n",
              "\n",
              "  <style>\n",
              "    .colab-df-container {\n",
              "      display:flex;\n",
              "      gap: 12px;\n",
              "    }\n",
              "\n",
              "    .colab-df-convert {\n",
              "      background-color: #E8F0FE;\n",
              "      border: none;\n",
              "      border-radius: 50%;\n",
              "      cursor: pointer;\n",
              "      display: none;\n",
              "      fill: #1967D2;\n",
              "      height: 32px;\n",
              "      padding: 0 0 0 0;\n",
              "      width: 32px;\n",
              "    }\n",
              "\n",
              "    .colab-df-convert:hover {\n",
              "      background-color: #E2EBFA;\n",
              "      box-shadow: 0px 1px 2px rgba(60, 64, 67, 0.3), 0px 1px 3px 1px rgba(60, 64, 67, 0.15);\n",
              "      fill: #174EA6;\n",
              "    }\n",
              "\n",
              "    .colab-df-buttons div {\n",
              "      margin-bottom: 4px;\n",
              "    }\n",
              "\n",
              "    [theme=dark] .colab-df-convert {\n",
              "      background-color: #3B4455;\n",
              "      fill: #D2E3FC;\n",
              "    }\n",
              "\n",
              "    [theme=dark] .colab-df-convert:hover {\n",
              "      background-color: #434B5C;\n",
              "      box-shadow: 0px 1px 3px 1px rgba(0, 0, 0, 0.15);\n",
              "      filter: drop-shadow(0px 1px 2px rgba(0, 0, 0, 0.3));\n",
              "      fill: #FFFFFF;\n",
              "    }\n",
              "  </style>\n",
              "\n",
              "    <script>\n",
              "      const buttonEl =\n",
              "        document.querySelector('#df-7403c046-1899-4ed3-bf41-4943e3e4c2a4 button.colab-df-convert');\n",
              "      buttonEl.style.display =\n",
              "        google.colab.kernel.accessAllowed ? 'block' : 'none';\n",
              "\n",
              "      async function convertToInteractive(key) {\n",
              "        const element = document.querySelector('#df-7403c046-1899-4ed3-bf41-4943e3e4c2a4');\n",
              "        const dataTable =\n",
              "          await google.colab.kernel.invokeFunction('convertToInteractive',\n",
              "                                                    [key], {});\n",
              "        if (!dataTable) return;\n",
              "\n",
              "        const docLinkHtml = 'Like what you see? Visit the ' +\n",
              "          '<a target=\"_blank\" href=https://colab.research.google.com/notebooks/data_table.ipynb>data table notebook</a>'\n",
              "          + ' to learn more about interactive tables.';\n",
              "        element.innerHTML = '';\n",
              "        dataTable['output_type'] = 'display_data';\n",
              "        await google.colab.output.renderOutput(dataTable, element);\n",
              "        const docLink = document.createElement('div');\n",
              "        docLink.innerHTML = docLinkHtml;\n",
              "        element.appendChild(docLink);\n",
              "      }\n",
              "    </script>\n",
              "  </div>\n",
              "\n",
              "\n",
              "    <div id=\"df-1f958947-39c0-40ee-920a-4cb9f5ba9d7f\">\n",
              "      <button class=\"colab-df-quickchart\" onclick=\"quickchart('df-1f958947-39c0-40ee-920a-4cb9f5ba9d7f')\"\n",
              "                title=\"Suggest charts\"\n",
              "                style=\"display:none;\">\n",
              "\n",
              "<svg xmlns=\"http://www.w3.org/2000/svg\" height=\"24px\"viewBox=\"0 0 24 24\"\n",
              "     width=\"24px\">\n",
              "    <g>\n",
              "        <path d=\"M19 3H5c-1.1 0-2 .9-2 2v14c0 1.1.9 2 2 2h14c1.1 0 2-.9 2-2V5c0-1.1-.9-2-2-2zM9 17H7v-7h2v7zm4 0h-2V7h2v10zm4 0h-2v-4h2v4z\"/>\n",
              "    </g>\n",
              "</svg>\n",
              "      </button>\n",
              "\n",
              "<style>\n",
              "  .colab-df-quickchart {\n",
              "      --bg-color: #E8F0FE;\n",
              "      --fill-color: #1967D2;\n",
              "      --hover-bg-color: #E2EBFA;\n",
              "      --hover-fill-color: #174EA6;\n",
              "      --disabled-fill-color: #AAA;\n",
              "      --disabled-bg-color: #DDD;\n",
              "  }\n",
              "\n",
              "  [theme=dark] .colab-df-quickchart {\n",
              "      --bg-color: #3B4455;\n",
              "      --fill-color: #D2E3FC;\n",
              "      --hover-bg-color: #434B5C;\n",
              "      --hover-fill-color: #FFFFFF;\n",
              "      --disabled-bg-color: #3B4455;\n",
              "      --disabled-fill-color: #666;\n",
              "  }\n",
              "\n",
              "  .colab-df-quickchart {\n",
              "    background-color: var(--bg-color);\n",
              "    border: none;\n",
              "    border-radius: 50%;\n",
              "    cursor: pointer;\n",
              "    display: none;\n",
              "    fill: var(--fill-color);\n",
              "    height: 32px;\n",
              "    padding: 0;\n",
              "    width: 32px;\n",
              "  }\n",
              "\n",
              "  .colab-df-quickchart:hover {\n",
              "    background-color: var(--hover-bg-color);\n",
              "    box-shadow: 0 1px 2px rgba(60, 64, 67, 0.3), 0 1px 3px 1px rgba(60, 64, 67, 0.15);\n",
              "    fill: var(--button-hover-fill-color);\n",
              "  }\n",
              "\n",
              "  .colab-df-quickchart-complete:disabled,\n",
              "  .colab-df-quickchart-complete:disabled:hover {\n",
              "    background-color: var(--disabled-bg-color);\n",
              "    fill: var(--disabled-fill-color);\n",
              "    box-shadow: none;\n",
              "  }\n",
              "\n",
              "  .colab-df-spinner {\n",
              "    border: 2px solid var(--fill-color);\n",
              "    border-color: transparent;\n",
              "    border-bottom-color: var(--fill-color);\n",
              "    animation:\n",
              "      spin 1s steps(1) infinite;\n",
              "  }\n",
              "\n",
              "  @keyframes spin {\n",
              "    0% {\n",
              "      border-color: transparent;\n",
              "      border-bottom-color: var(--fill-color);\n",
              "      border-left-color: var(--fill-color);\n",
              "    }\n",
              "    20% {\n",
              "      border-color: transparent;\n",
              "      border-left-color: var(--fill-color);\n",
              "      border-top-color: var(--fill-color);\n",
              "    }\n",
              "    30% {\n",
              "      border-color: transparent;\n",
              "      border-left-color: var(--fill-color);\n",
              "      border-top-color: var(--fill-color);\n",
              "      border-right-color: var(--fill-color);\n",
              "    }\n",
              "    40% {\n",
              "      border-color: transparent;\n",
              "      border-right-color: var(--fill-color);\n",
              "      border-top-color: var(--fill-color);\n",
              "    }\n",
              "    60% {\n",
              "      border-color: transparent;\n",
              "      border-right-color: var(--fill-color);\n",
              "    }\n",
              "    80% {\n",
              "      border-color: transparent;\n",
              "      border-right-color: var(--fill-color);\n",
              "      border-bottom-color: var(--fill-color);\n",
              "    }\n",
              "    90% {\n",
              "      border-color: transparent;\n",
              "      border-bottom-color: var(--fill-color);\n",
              "    }\n",
              "  }\n",
              "</style>\n",
              "\n",
              "      <script>\n",
              "        async function quickchart(key) {\n",
              "          const quickchartButtonEl =\n",
              "            document.querySelector('#' + key + ' button');\n",
              "          quickchartButtonEl.disabled = true;  // To prevent multiple clicks.\n",
              "          quickchartButtonEl.classList.add('colab-df-spinner');\n",
              "          try {\n",
              "            const charts = await google.colab.kernel.invokeFunction(\n",
              "                'suggestCharts', [key], {});\n",
              "          } catch (error) {\n",
              "            console.error('Error during call to suggestCharts:', error);\n",
              "          }\n",
              "          quickchartButtonEl.classList.remove('colab-df-spinner');\n",
              "          quickchartButtonEl.classList.add('colab-df-quickchart-complete');\n",
              "        }\n",
              "        (() => {\n",
              "          let quickchartButtonEl =\n",
              "            document.querySelector('#df-1f958947-39c0-40ee-920a-4cb9f5ba9d7f button');\n",
              "          quickchartButtonEl.style.display =\n",
              "            google.colab.kernel.accessAllowed ? 'block' : 'none';\n",
              "        })();\n",
              "      </script>\n",
              "    </div>\n",
              "\n",
              "    </div>\n",
              "  </div>\n"
            ],
            "application/vnd.google.colaboratory.intrinsic+json": {
              "type": "dataframe",
              "summary": "{\n  \"name\": \"display(df_scaled\",\n  \"rows\": 5,\n  \"fields\": [\n    {\n      \"column\": \"Ozono\",\n      \"properties\": {\n        \"dtype\": \"number\",\n        \"std\": 5.737304826019502,\n        \"min\": 20.0,\n        \"max\": 32.0,\n        \"num_unique_values\": 4,\n        \"samples\": [\n          32.0,\n          28.0,\n          21.0\n        ],\n        \"semantic_type\": \"\",\n        \"description\": \"\"\n      }\n    },\n    {\n      \"column\": \"RadSol\",\n      \"properties\": {\n        \"dtype\": \"number\",\n        \"std\": 103.39729203417274,\n        \"min\": 37.0,\n        \"max\": 273.0,\n        \"num_unique_values\": 5,\n        \"samples\": [\n          92.0,\n          273.0,\n          37.0\n        ],\n        \"semantic_type\": \"\",\n        \"description\": \"\"\n      }\n    },\n    {\n      \"column\": \"Vient\",\n      \"properties\": {\n        \"dtype\": \"number\",\n        \"std\": 2.7318491905667126,\n        \"min\": 8.6,\n        \"max\": 15.5,\n        \"num_unique_values\": 5,\n        \"samples\": [\n          12.0,\n          11.5,\n          9.2\n        ],\n        \"semantic_type\": \"\",\n        \"description\": \"\"\n      }\n    },\n    {\n      \"column\": \"Temp\",\n      \"properties\": {\n        \"dtype\": \"number\",\n        \"std\": 9,\n        \"min\": 61,\n        \"max\": 82,\n        \"num_unique_values\": 4,\n        \"samples\": [\n          61,\n          82,\n          76\n        ],\n        \"semantic_type\": \"\",\n        \"description\": \"\"\n      }\n    },\n    {\n      \"column\": \"Mes\",\n      \"properties\": {\n        \"dtype\": \"number\",\n        \"std\": 1,\n        \"min\": 5,\n        \"max\": 9,\n        \"num_unique_values\": 5,\n        \"samples\": [\n          5,\n          8,\n          6\n        ],\n        \"semantic_type\": \"\",\n        \"description\": \"\"\n      }\n    },\n    {\n      \"column\": \"Dia\",\n      \"properties\": {\n        \"dtype\": \"number\",\n        \"std\": 5,\n        \"min\": 11,\n        \"max\": 24,\n        \"num_unique_values\": 5,\n        \"samples\": [\n          24,\n          13,\n          18\n        ],\n        \"semantic_type\": \"\",\n        \"description\": \"\"\n      }\n    },\n    {\n      \"column\": \"Mes.ch\",\n      \"properties\": {\n        \"dtype\": \"string\",\n        \"num_unique_values\": 5,\n        \"samples\": [\n          \"5\",\n          \"8\",\n          \"6\"\n        ],\n        \"semantic_type\": \"\",\n        \"description\": \"\"\n      }\n    },\n    {\n      \"column\": \"Oz.imp\",\n      \"properties\": {\n        \"dtype\": \"number\",\n        \"std\": 8.646504866184475,\n        \"min\": 20.0,\n        \"max\": 41.073170731707314,\n        \"num_unique_values\": 5,\n        \"samples\": [\n          32.0,\n          28.0,\n          20.0\n        ],\n        \"semantic_type\": \"\",\n        \"description\": \"\"\n      }\n    }\n  ]\n}"
            }
          },
          "metadata": {}
        },
        {
          "output_type": "stream",
          "name": "stdout",
          "text": [
            "✅ DataFrame escalado sin la variable 'Ozono'.\n"
          ]
        },
        {
          "output_type": "display_data",
          "data": {
            "text/plain": [
              "     RadSol     Vient      Temp       Mes       Dia    Oz.imp\n",
              "0  0.778114  1.604962 -0.158860  1.333530 -0.406293 -0.672159\n",
              "1 -0.989344  0.582879 -1.726561 -1.416017  1.031912  0.085151\n",
              "2 -1.571441 -0.234787 -1.308507 -0.728630  0.312810 -0.741005\n",
              "3 -0.491916 -0.410001  0.468220 -0.041243 -0.526143  0.709806\n",
              "4  0.926284  0.436867  0.468220  0.646143 -0.286442 -0.190234"
            ],
            "text/html": [
              "\n",
              "  <div id=\"df-7f6f5007-6c1f-4060-b553-277ddff5d502\" class=\"colab-df-container\">\n",
              "    <div>\n",
              "<style scoped>\n",
              "    .dataframe tbody tr th:only-of-type {\n",
              "        vertical-align: middle;\n",
              "    }\n",
              "\n",
              "    .dataframe tbody tr th {\n",
              "        vertical-align: top;\n",
              "    }\n",
              "\n",
              "    .dataframe thead th {\n",
              "        text-align: right;\n",
              "    }\n",
              "</style>\n",
              "<table border=\"1\" class=\"dataframe\">\n",
              "  <thead>\n",
              "    <tr style=\"text-align: right;\">\n",
              "      <th></th>\n",
              "      <th>RadSol</th>\n",
              "      <th>Vient</th>\n",
              "      <th>Temp</th>\n",
              "      <th>Mes</th>\n",
              "      <th>Dia</th>\n",
              "      <th>Oz.imp</th>\n",
              "    </tr>\n",
              "  </thead>\n",
              "  <tbody>\n",
              "    <tr>\n",
              "      <th>0</th>\n",
              "      <td>0.778114</td>\n",
              "      <td>1.604962</td>\n",
              "      <td>-0.158860</td>\n",
              "      <td>1.333530</td>\n",
              "      <td>-0.406293</td>\n",
              "      <td>-0.672159</td>\n",
              "    </tr>\n",
              "    <tr>\n",
              "      <th>1</th>\n",
              "      <td>-0.989344</td>\n",
              "      <td>0.582879</td>\n",
              "      <td>-1.726561</td>\n",
              "      <td>-1.416017</td>\n",
              "      <td>1.031912</td>\n",
              "      <td>0.085151</td>\n",
              "    </tr>\n",
              "    <tr>\n",
              "      <th>2</th>\n",
              "      <td>-1.571441</td>\n",
              "      <td>-0.234787</td>\n",
              "      <td>-1.308507</td>\n",
              "      <td>-0.728630</td>\n",
              "      <td>0.312810</td>\n",
              "      <td>-0.741005</td>\n",
              "    </tr>\n",
              "    <tr>\n",
              "      <th>3</th>\n",
              "      <td>-0.491916</td>\n",
              "      <td>-0.410001</td>\n",
              "      <td>0.468220</td>\n",
              "      <td>-0.041243</td>\n",
              "      <td>-0.526143</td>\n",
              "      <td>0.709806</td>\n",
              "    </tr>\n",
              "    <tr>\n",
              "      <th>4</th>\n",
              "      <td>0.926284</td>\n",
              "      <td>0.436867</td>\n",
              "      <td>0.468220</td>\n",
              "      <td>0.646143</td>\n",
              "      <td>-0.286442</td>\n",
              "      <td>-0.190234</td>\n",
              "    </tr>\n",
              "  </tbody>\n",
              "</table>\n",
              "</div>\n",
              "    <div class=\"colab-df-buttons\">\n",
              "\n",
              "  <div class=\"colab-df-container\">\n",
              "    <button class=\"colab-df-convert\" onclick=\"convertToInteractive('df-7f6f5007-6c1f-4060-b553-277ddff5d502')\"\n",
              "            title=\"Convert this dataframe to an interactive table.\"\n",
              "            style=\"display:none;\">\n",
              "\n",
              "  <svg xmlns=\"http://www.w3.org/2000/svg\" height=\"24px\" viewBox=\"0 -960 960 960\">\n",
              "    <path d=\"M120-120v-720h720v720H120Zm60-500h600v-160H180v160Zm220 220h160v-160H400v160Zm0 220h160v-160H400v160ZM180-400h160v-160H180v160Zm440 0h160v-160H620v160ZM180-180h160v-160H180v160Zm440 0h160v-160H620v160Z\"/>\n",
              "  </svg>\n",
              "    </button>\n",
              "\n",
              "  <style>\n",
              "    .colab-df-container {\n",
              "      display:flex;\n",
              "      gap: 12px;\n",
              "    }\n",
              "\n",
              "    .colab-df-convert {\n",
              "      background-color: #E8F0FE;\n",
              "      border: none;\n",
              "      border-radius: 50%;\n",
              "      cursor: pointer;\n",
              "      display: none;\n",
              "      fill: #1967D2;\n",
              "      height: 32px;\n",
              "      padding: 0 0 0 0;\n",
              "      width: 32px;\n",
              "    }\n",
              "\n",
              "    .colab-df-convert:hover {\n",
              "      background-color: #E2EBFA;\n",
              "      box-shadow: 0px 1px 2px rgba(60, 64, 67, 0.3), 0px 1px 3px 1px rgba(60, 64, 67, 0.15);\n",
              "      fill: #174EA6;\n",
              "    }\n",
              "\n",
              "    .colab-df-buttons div {\n",
              "      margin-bottom: 4px;\n",
              "    }\n",
              "\n",
              "    [theme=dark] .colab-df-convert {\n",
              "      background-color: #3B4455;\n",
              "      fill: #D2E3FC;\n",
              "    }\n",
              "\n",
              "    [theme=dark] .colab-df-convert:hover {\n",
              "      background-color: #434B5C;\n",
              "      box-shadow: 0px 1px 3px 1px rgba(0, 0, 0, 0.15);\n",
              "      filter: drop-shadow(0px 1px 2px rgba(0, 0, 0, 0.3));\n",
              "      fill: #FFFFFF;\n",
              "    }\n",
              "  </style>\n",
              "\n",
              "    <script>\n",
              "      const buttonEl =\n",
              "        document.querySelector('#df-7f6f5007-6c1f-4060-b553-277ddff5d502 button.colab-df-convert');\n",
              "      buttonEl.style.display =\n",
              "        google.colab.kernel.accessAllowed ? 'block' : 'none';\n",
              "\n",
              "      async function convertToInteractive(key) {\n",
              "        const element = document.querySelector('#df-7f6f5007-6c1f-4060-b553-277ddff5d502');\n",
              "        const dataTable =\n",
              "          await google.colab.kernel.invokeFunction('convertToInteractive',\n",
              "                                                    [key], {});\n",
              "        if (!dataTable) return;\n",
              "\n",
              "        const docLinkHtml = 'Like what you see? Visit the ' +\n",
              "          '<a target=\"_blank\" href=https://colab.research.google.com/notebooks/data_table.ipynb>data table notebook</a>'\n",
              "          + ' to learn more about interactive tables.';\n",
              "        element.innerHTML = '';\n",
              "        dataTable['output_type'] = 'display_data';\n",
              "        await google.colab.output.renderOutput(dataTable, element);\n",
              "        const docLink = document.createElement('div');\n",
              "        docLink.innerHTML = docLinkHtml;\n",
              "        element.appendChild(docLink);\n",
              "      }\n",
              "    </script>\n",
              "  </div>\n",
              "\n",
              "\n",
              "    <div id=\"df-30042ec6-572e-449a-a598-138c1ff1ac45\">\n",
              "      <button class=\"colab-df-quickchart\" onclick=\"quickchart('df-30042ec6-572e-449a-a598-138c1ff1ac45')\"\n",
              "                title=\"Suggest charts\"\n",
              "                style=\"display:none;\">\n",
              "\n",
              "<svg xmlns=\"http://www.w3.org/2000/svg\" height=\"24px\"viewBox=\"0 0 24 24\"\n",
              "     width=\"24px\">\n",
              "    <g>\n",
              "        <path d=\"M19 3H5c-1.1 0-2 .9-2 2v14c0 1.1.9 2 2 2h14c1.1 0 2-.9 2-2V5c0-1.1-.9-2-2-2zM9 17H7v-7h2v7zm4 0h-2V7h2v10zm4 0h-2v-4h2v4z\"/>\n",
              "    </g>\n",
              "</svg>\n",
              "      </button>\n",
              "\n",
              "<style>\n",
              "  .colab-df-quickchart {\n",
              "      --bg-color: #E8F0FE;\n",
              "      --fill-color: #1967D2;\n",
              "      --hover-bg-color: #E2EBFA;\n",
              "      --hover-fill-color: #174EA6;\n",
              "      --disabled-fill-color: #AAA;\n",
              "      --disabled-bg-color: #DDD;\n",
              "  }\n",
              "\n",
              "  [theme=dark] .colab-df-quickchart {\n",
              "      --bg-color: #3B4455;\n",
              "      --fill-color: #D2E3FC;\n",
              "      --hover-bg-color: #434B5C;\n",
              "      --hover-fill-color: #FFFFFF;\n",
              "      --disabled-bg-color: #3B4455;\n",
              "      --disabled-fill-color: #666;\n",
              "  }\n",
              "\n",
              "  .colab-df-quickchart {\n",
              "    background-color: var(--bg-color);\n",
              "    border: none;\n",
              "    border-radius: 50%;\n",
              "    cursor: pointer;\n",
              "    display: none;\n",
              "    fill: var(--fill-color);\n",
              "    height: 32px;\n",
              "    padding: 0;\n",
              "    width: 32px;\n",
              "  }\n",
              "\n",
              "  .colab-df-quickchart:hover {\n",
              "    background-color: var(--hover-bg-color);\n",
              "    box-shadow: 0 1px 2px rgba(60, 64, 67, 0.3), 0 1px 3px 1px rgba(60, 64, 67, 0.15);\n",
              "    fill: var(--button-hover-fill-color);\n",
              "  }\n",
              "\n",
              "  .colab-df-quickchart-complete:disabled,\n",
              "  .colab-df-quickchart-complete:disabled:hover {\n",
              "    background-color: var(--disabled-bg-color);\n",
              "    fill: var(--disabled-fill-color);\n",
              "    box-shadow: none;\n",
              "  }\n",
              "\n",
              "  .colab-df-spinner {\n",
              "    border: 2px solid var(--fill-color);\n",
              "    border-color: transparent;\n",
              "    border-bottom-color: var(--fill-color);\n",
              "    animation:\n",
              "      spin 1s steps(1) infinite;\n",
              "  }\n",
              "\n",
              "  @keyframes spin {\n",
              "    0% {\n",
              "      border-color: transparent;\n",
              "      border-bottom-color: var(--fill-color);\n",
              "      border-left-color: var(--fill-color);\n",
              "    }\n",
              "    20% {\n",
              "      border-color: transparent;\n",
              "      border-left-color: var(--fill-color);\n",
              "      border-top-color: var(--fill-color);\n",
              "    }\n",
              "    30% {\n",
              "      border-color: transparent;\n",
              "      border-left-color: var(--fill-color);\n",
              "      border-top-color: var(--fill-color);\n",
              "      border-right-color: var(--fill-color);\n",
              "    }\n",
              "    40% {\n",
              "      border-color: transparent;\n",
              "      border-right-color: var(--fill-color);\n",
              "      border-top-color: var(--fill-color);\n",
              "    }\n",
              "    60% {\n",
              "      border-color: transparent;\n",
              "      border-right-color: var(--fill-color);\n",
              "    }\n",
              "    80% {\n",
              "      border-color: transparent;\n",
              "      border-right-color: var(--fill-color);\n",
              "      border-bottom-color: var(--fill-color);\n",
              "    }\n",
              "    90% {\n",
              "      border-color: transparent;\n",
              "      border-bottom-color: var(--fill-color);\n",
              "    }\n",
              "  }\n",
              "</style>\n",
              "\n",
              "      <script>\n",
              "        async function quickchart(key) {\n",
              "          const quickchartButtonEl =\n",
              "            document.querySelector('#' + key + ' button');\n",
              "          quickchartButtonEl.disabled = true;  // To prevent multiple clicks.\n",
              "          quickchartButtonEl.classList.add('colab-df-spinner');\n",
              "          try {\n",
              "            const charts = await google.colab.kernel.invokeFunction(\n",
              "                'suggestCharts', [key], {});\n",
              "          } catch (error) {\n",
              "            console.error('Error during call to suggestCharts:', error);\n",
              "          }\n",
              "          quickchartButtonEl.classList.remove('colab-df-spinner');\n",
              "          quickchartButtonEl.classList.add('colab-df-quickchart-complete');\n",
              "        }\n",
              "        (() => {\n",
              "          let quickchartButtonEl =\n",
              "            document.querySelector('#df-30042ec6-572e-449a-a598-138c1ff1ac45 button');\n",
              "          quickchartButtonEl.style.display =\n",
              "            google.colab.kernel.accessAllowed ? 'block' : 'none';\n",
              "        })();\n",
              "      </script>\n",
              "    </div>\n",
              "\n",
              "    </div>\n",
              "  </div>\n"
            ],
            "application/vnd.google.colaboratory.intrinsic+json": {
              "type": "dataframe",
              "summary": "{\n  \"name\": \"display(df_scaled\",\n  \"rows\": 5,\n  \"fields\": [\n    {\n      \"column\": \"RadSol\",\n      \"properties\": {\n        \"dtype\": \"number\",\n        \"std\": 1.0943133873530408,\n        \"min\": -1.5714409597173615,\n        \"max\": 0.9262836357194665,\n        \"num_unique_values\": 5,\n        \"samples\": [\n          -0.98934412603505,\n          0.9262836357194665,\n          -1.5714409597173615\n        ],\n        \"semantic_type\": \"\",\n        \"description\": \"\"\n      }\n    },\n    {\n      \"column\": \"Vient\",\n      \"properties\": {\n        \"dtype\": \"number\",\n        \"std\": 0.7977644234707011,\n        \"min\": -0.41000112832747976,\n        \"max\": 1.604961681828938,\n        \"num_unique_values\": 5,\n        \"samples\": [\n          0.582879096966987,\n          0.43686729912956546,\n          -0.23478697092257397\n        ],\n        \"semantic_type\": \"\",\n        \"description\": \"\"\n      }\n    },\n    {\n      \"column\": \"Temp\",\n      \"properties\": {\n        \"dtype\": \"number\",\n        \"std\": 1.0170604442140663,\n        \"min\": -1.7265605654530471,\n        \"max\": 0.46821981436014887,\n        \"num_unique_values\": 4,\n        \"samples\": [\n          -1.7265605654530471,\n          0.46821981436014887,\n          -0.1588602941579071\n        ],\n        \"semantic_type\": \"\",\n        \"description\": \"\"\n      }\n    },\n    {\n      \"column\": \"Mes\",\n      \"properties\": {\n        \"dtype\": \"number\",\n        \"std\": 1.0868537993912435,\n        \"min\": -1.4160165977498302,\n        \"max\": 1.3335301939974136,\n        \"num_unique_values\": 5,\n        \"samples\": [\n          -1.4160165977498302,\n          0.6461434960606026,\n          -0.7286298998130194\n        ],\n        \"semantic_type\": \"\",\n        \"description\": \"\"\n      }\n    },\n    {\n      \"column\": \"Dia\",\n      \"properties\": {\n        \"dtype\": \"number\",\n        \"std\": 0.6487439948230727,\n        \"min\": -0.5261433199321678,\n        \"max\": 1.0319120693886021,\n        \"num_unique_values\": 5,\n        \"samples\": [\n          1.0319120693886021,\n          -0.28644249080589546,\n          0.31280958200978526\n        ],\n        \"semantic_type\": \"\",\n        \"description\": \"\"\n      }\n    },\n    {\n      \"column\": \"Oz.imp\",\n      \"properties\": {\n        \"dtype\": \"number\",\n        \"std\": 0.5952805680745474,\n        \"min\": -0.7410053526381,\n        \"max\": 0.7098061877986159,\n        \"num_unique_values\": 5,\n        \"samples\": [\n          0.08515121899947448,\n          -0.19023430487971701,\n          -0.7410053526381\n        ],\n        \"semantic_type\": \"\",\n        \"description\": \"\"\n      }\n    }\n  ]\n}"
            }
          },
          "metadata": {}
        }
      ]
    }
  ]
}