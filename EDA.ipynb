{
  "nbformat": 4,
  "nbformat_minor": 0,
  "metadata": {
    "colab": {
      "provenance": []
    },
    "kernelspec": {
      "name": "python3",
      "display_name": "Python 3"
    },
    "language_info": {
      "name": "python"
    }
  },
  "cells": [
    {
      "cell_type": "markdown",
      "source": [
        "# **EJERCICIO 1**"
      ],
      "metadata": {
        "id": "XqCUrkA4WP6y"
      }
    },
    {
      "cell_type": "code",
      "execution_count": null,
      "metadata": {
        "id": "Lw1w7Z6mO65Q"
      },
      "outputs": [],
      "source": [
        "# ------------------------------------------------------------------------------\n",
        "# 🧭 EDA de S&P 500 (Curso de Minería de Datos)\n",
        "# ------------------------------------------------------------------------------\n",
        "\n",
        "# Este cuaderno realiza un **Análisis Exploratorio de Datos (EDA)** sobre:\n",
        "# - sp500_data.csv\n",
        "# - sp500_sectors.csv\n",
        "#\n",
        "# Objetivos:\n",
        "# 1) Revisar tipos de variables\n",
        "# 2) Detectar datos nulos\n",
        "# 3) Análisis descriptivo (tendencia central y dispersión)\n",
        "# 4) Distribuciones e identificación de outliers\n",
        "# 5) Tablas de frecuencias\n",
        "# 6) Correlación binaria (Pearson y Spearman)\n",
        "# ------------------------------------------------------------------------------\n",
        "\n",
        "\n",
        "# %%\n",
        "# 🔧 Instalación y carga de librerías\n",
        "import pandas as pd\n",
        "import numpy as np\n",
        "import matplotlib.pyplot as plt\n",
        "from pathlib import Path\n",
        "\n",
        "pd.set_option('display.max_columns', 100)\n",
        "pd.set_option('display.width', 120)\n",
        "\n",
        "print(\"Librerías cargadas.\")\n"
      ]
    },
    {
      "cell_type": "code",
      "source": [
        "# %%\n",
        "# 📥 Lectura de archivos\n",
        "DATA_PATH = Path('.')  # en Colab: '.' es el directorio de trabajo\n",
        "file_main    = DATA_PATH / 'sp500_data.csv'\n",
        "file_sectors = DATA_PATH / 'sp500_sectors.csv'\n",
        "\n",
        "df = pd.read_csv(file_main)\n",
        "df_sectors = pd.read_csv(file_sectors)\n",
        "\n",
        "print('Tamaños:')\n",
        "print('sp500_data:', df.shape)\n",
        "print('sp500_sectors:', df_sectors.shape)\n",
        "\n",
        "print(\"\\nPrimeras filas de sp500_data:\")\n",
        "display(df.head())\n",
        "\n"
      ],
      "metadata": {
        "id": "j8CDKGYYPfJI"
      },
      "execution_count": null,
      "outputs": []
    },
    {
      "cell_type": "code",
      "source": [
        "print(\"\\nPrimeras filas de sp500_sectors:\")\n",
        "display(df_sectors.head())"
      ],
      "metadata": {
        "id": "UpLWxzoCP4qa"
      },
      "execution_count": null,
      "outputs": []
    },
    {
      "cell_type": "code",
      "source": [
        "print(\"\\nUltimas filas de sp500_sectors:\")\n",
        "display(df_sectors.tail())"
      ],
      "metadata": {
        "id": "E7XCVRqjP9wj"
      },
      "execution_count": null,
      "outputs": []
    },
    {
      "cell_type": "code",
      "source": [
        "# %%\n",
        "# 🔎 Inspección inicial: esquema y tipos de variables\n",
        "print('Tipos de datos (sp500_data):')\n",
        "print(df.dtypes)\n",
        "\n",
        "print(\"\\nConteo de nulos (sp500_data):\")\n",
        "print(df.isna().sum())\n",
        "\n",
        "print(\"\\nTipos de datos (sp500_sectors):\")\n",
        "print(df_sectors.dtypes)\n",
        "\n",
        "print(\"\\nConteo de nulos (sp500_sectors):\")\n",
        "print(df_sectors.isna().sum())\n",
        "\n",
        "num_cols = df.select_dtypes(include=[np.number]).columns.tolist()\n",
        "cat_cols = df.select_dtypes(exclude=[np.number]).columns.tolist()\n",
        "\n",
        "print(\"\\nColumnas numéricas:\", num_cols)\n",
        "print(\"Columnas no numéricas:\", cat_cols)"
      ],
      "metadata": {
        "id": "NdafvcPVPdG8"
      },
      "execution_count": null,
      "outputs": []
    },
    {
      "cell_type": "code",
      "source": [
        "# Muestra de valores únicos en categóricas\n",
        "max_show = 15\n",
        "for c in cat_cols:\n",
        "    uniques = df[c].dropna().unique()\n",
        "    print(f\"\\nColumna '{c}': {len(uniques)} valores únicos (muestra hasta {max_show})\")\n",
        "    print(uniques[:max_show])"
      ],
      "metadata": {
        "id": "umbzArkFPbUN"
      },
      "execution_count": null,
      "outputs": []
    },
    {
      "cell_type": "code",
      "source": [
        "# %%\n",
        "# 🧩 Enriquecimiento: unión con metadatos de sector (opcional)\n",
        "candidate_keys = ['Ticker', 'Symbol', 'ticker', 'symbol']\n",
        "key = None\n",
        "for k in candidate_keys:\n",
        "    if k in df.columns and k in df_sectors.columns:\n",
        "        key = k\n",
        "        break\n",
        "\n",
        "if key is not None:\n",
        "    print(f'Uniendo por clave: {key!r}')\n",
        "    df_eda = df.merge(df_sectors, on=key, how='left', suffixes=('', '_sector'))\n",
        "else:\n",
        "    print('No se detectó clave común. Continuamos solo con sp500_data.')\n",
        "    df_eda = df.copy()\n",
        "\n",
        "print(\"Tamaño del dataset para EDA:\", df_eda.shape)\n",
        "display(df_eda.head())"
      ],
      "metadata": {
        "id": "fmME1ac-PXxz"
      },
      "execution_count": null,
      "outputs": []
    },
    {
      "cell_type": "code",
      "source": [
        "# %%\n",
        "# 📊 Análisis descriptivo: tendencia central y dispersión\n",
        "\n",
        "\n",
        "extra_stats = pd.DataFrame({\n",
        "    # Media aritmética: promedio de los valores de cada variable numérica\n",
        "    'mean': df_eda[num_cols].mean(),\n",
        "\n",
        "    # Mediana: valor central de la distribución (robusto frente a outliers)\n",
        "    'median': df_eda[num_cols].median(),\n",
        "\n",
        "    # Desviación estándar: medida de dispersión respecto a la media\n",
        "    'std': df_eda[num_cols].std(),\n",
        "\n",
        "    # Varianza: cuadrado de la desviación estándar (otra medida de dispersión)\n",
        "    'var': df_eda[num_cols].var(),\n",
        "\n",
        "    # Primer cuartil (Q1): valor por debajo del cual se encuentra el 25% de los datos\n",
        "    'q1': df_eda[num_cols].quantile(0.25),\n",
        "\n",
        "    # Tercer cuartil (Q3): valor por debajo del cual se encuentra el 75% de los datos\n",
        "    'q3': df_eda[num_cols].quantile(0.75),\n",
        "\n",
        "    # Asimetría (skewness): mide si la distribución es simétrica o está sesgada a un lado\n",
        "    'skew': df_eda[num_cols].skew(),\n",
        "\n",
        "    # Curtosis (kurtosis): mide el “peso” de las colas respecto a una normal (valores extremos)\n",
        "    'kurt': df_eda[num_cols].kurt()\n",
        "})\n",
        "\n",
        "display(extra_stats)"
      ],
      "metadata": {
        "id": "0M1gXlIbPUGg"
      },
      "execution_count": null,
      "outputs": []
    },
    {
      "cell_type": "code",
      "source": [
        "desc = df_eda.describe(include='all').T\n",
        "display(desc)"
      ],
      "metadata": {
        "id": "bipjRCwdQoPq"
      },
      "execution_count": null,
      "outputs": []
    },
    {
      "cell_type": "code",
      "source": [
        "# %%\n",
        "# 📋 Tablas de frecuencias para categóricas\n",
        "cat_cols_eda = df_eda.select_dtypes(exclude=[np.number]).columns.tolist()\n",
        "for c in cat_cols_eda:\n",
        "    print(f\"\\n=== {c} ===\")\n",
        "    vc = df_eda[c].value_counts(dropna=False)\n",
        "    vcp = df_eda[c].value_counts(normalize=True, dropna=False).round(4)\n",
        "    freq = pd.DataFrame({'freq_abs': vc, 'freq_rel': vcp})\n",
        "    display(freq.head(30))\n"
      ],
      "metadata": {
        "id": "2DNzVSciPSBn"
      },
      "execution_count": null,
      "outputs": []
    },
    {
      "cell_type": "code",
      "source": [
        "# %%\n",
        "# 🔔 Distribución de datos: histogramas y boxplots\n",
        "#\n",
        "# OJO: sólo estamos viendo las tres primeras columnas numéricas\n",
        "#\n",
        "for c in num_cols[:3]:\n",
        "    # Histograma\n",
        "    plt.figure()\n",
        "    df_eda[c].dropna().hist(bins=30)\n",
        "    plt.title(f'Histograma de {c}')\n",
        "    plt.xlabel(c)\n",
        "    plt.ylabel('Frecuencia')\n",
        "    plt.show()\n",
        "\n",
        "    # Boxplot\n",
        "    plt.figure()\n",
        "    plt.boxplot(df_eda[c].dropna(), vert=True)\n",
        "    plt.title(f'Boxplot de {c}')\n",
        "    plt.ylabel(c)\n",
        "    plt.show()"
      ],
      "metadata": {
        "id": "Rfko5WKJPOvk"
      },
      "execution_count": null,
      "outputs": []
    },
    {
      "cell_type": "code",
      "source": [
        "# %%\n",
        "# 🚨 Detección de outliers (IQR)\n",
        "iqr_report = []\n",
        "outlier_indices = {}\n",
        "#\n",
        "# OJO: sólo estamos viendo las cinco primeras columnas numéricas\n",
        "#\n",
        "for c in num_cols[:5]:\n",
        "    s = df_eda[c].dropna()\n",
        "    q1 = s.quantile(0.25)\n",
        "    q3 = s.quantile(0.75)\n",
        "    iqr = q3 - q1\n",
        "    low  = q1 - 1.5 * iqr\n",
        "    high = q3 + 1.5 * iqr\n",
        "    mask = (df_eda[c] < low) | (df_eda[c] > high)\n",
        "    count = int(mask.sum())\n",
        "    iqr_report.append({'variable': c, 'q1': q1, 'q3': q3, 'iqr': iqr,\n",
        "                       'low': low, 'high': high, 'n_outliers': count})\n",
        "    outlier_indices[c] = df_eda.index[mask].tolist()\n",
        "\n",
        "iqr_df = pd.DataFrame(iqr_report).sort_values('n_outliers', ascending=False)\n",
        "display(iqr_df)\n",
        "\n",
        "# outlier_indices['NombreDeVariable']  # para ver índices específicos"
      ],
      "metadata": {
        "id": "BAoRBoUqPNrQ"
      },
      "execution_count": null,
      "outputs": []
    },
    {
      "cell_type": "code",
      "source": [
        "# %%\n",
        "# 🕳️ Patrón de valores nulos\n",
        "nulls = df_eda.isna().sum().sort_values(ascending=False)\n",
        "pct_nulls = (df_eda.isna().mean()*100).round(2).sort_values(ascending=False)\n",
        "\n",
        "nulls_df = pd.DataFrame({'n_nulls': nulls, 'pct_nulls': pct_nulls})\n",
        "display(nulls_df)\n",
        "\n",
        "print(\"\\nNúmero de filas con algún nulo:\", int(df_eda.isna().any(axis=1).sum()))\n",
        "rows_with_nulls = df_eda[df_eda.isna().any(axis=1)].head(10)\n",
        "display(rows_with_nulls)"
      ],
      "metadata": {
        "id": "t_Rsw7mEPHZU"
      },
      "execution_count": null,
      "outputs": []
    },
    {
      "cell_type": "code",
      "source": [
        "# %%\n",
        "# 🔗 Correlación binaria (Pearson y Spearman)\n",
        "#\n",
        "# OJO: sólo estamos viendo las cinco primeras columnas numéricas\n",
        "#\n",
        "num_df = df_eda[num_cols[:15]].select_dtypes(include=[np.number]).copy()\n",
        "\n",
        "corr_pearson = num_df.corr(method='pearson')\n",
        "corr_spearman = num_df.corr(method='spearman')\n",
        "\n",
        "print(\"Correlación (Pearson):\")\n",
        "display(corr_pearson)\n",
        "\n",
        "print(\"\\nCorrelación (Spearman):\")\n",
        "display(corr_spearman)"
      ],
      "metadata": {
        "id": "d_vlKJaXPEhJ"
      },
      "execution_count": null,
      "outputs": []
    },
    {
      "cell_type": "code",
      "source": [
        "# Heatmap Pearson\n",
        "plt.figure()\n",
        "plt.imshow(corr_pearson, aspect='auto', cmap='coolwarm', vmin=-1, vmax=1)\n",
        "plt.title(\"Mapa de calor - Pearson\")\n",
        "\n",
        "# Ejes\n",
        "plt.xticks(range(len(corr_pearson.columns)), corr_pearson.columns, rotation=90)\n",
        "plt.yticks(range(len(corr_pearson.index)), corr_pearson.index)\n",
        "plt.colorbar()\n",
        "\n",
        "# Anotar los valores en cada celda\n",
        "for i in range(len(corr_pearson.index)):\n",
        "    for j in range(len(corr_pearson.columns)):\n",
        "        val = corr_pearson.iloc[i, j]\n",
        "        plt.text(j, i, f\"{val:.2f}\", ha=\"center\", va=\"center\", color=\"black\")\n",
        "\n",
        "plt.tight_layout()\n",
        "plt.show()"
      ],
      "metadata": {
        "id": "H-EEgGgNPCsY"
      },
      "execution_count": null,
      "outputs": []
    },
    {
      "cell_type": "code",
      "source": [
        "# Heatmap Spearman\n",
        "plt.figure()\n",
        "plt.imshow(corr_spearman, aspect='auto', cmap='coolwarm', vmin=-1, vmax=1)\n",
        "plt.title(\"Mapa de calor - Spearman\")\n",
        "\n",
        "# Ejes\n",
        "plt.xticks(range(len(corr_spearman.columns)), corr_spearman.columns, rotation=90)\n",
        "plt.yticks(range(len(corr_spearman.index)), corr_spearman.index)\n",
        "plt.colorbar()\n",
        "\n",
        "# Anotar los valores en cada celda\n",
        "for i in range(len(corr_spearman.index)):\n",
        "    for j in range(len(corr_spearman.columns)):\n",
        "        val = corr_spearman.iloc[i, j]\n",
        "        plt.text(j, i, f\"{val:.2f}\", ha=\"center\", va=\"center\", color=\"black\")\n",
        "\n",
        "plt.tight_layout()\n",
        "plt.show()\n"
      ],
      "metadata": {
        "id": "9_b0GhIvPBGz"
      },
      "execution_count": null,
      "outputs": []
    },
    {
      "cell_type": "code",
      "source": [
        "# %%\n",
        "# 🧪 Comparaciones bivariadas rápidas (opcional)\n",
        "x_var = 'INTC'  # cambia aquí\n",
        "y_var = 'ALTR'  # cambia aquí\n",
        "\n",
        "if x_var in num_cols and y_var in num_cols and x_var != y_var:\n",
        "    plt.figure()\n",
        "    plt.scatter(df_eda[x_var], df_eda[y_var])\n",
        "    plt.xlabel(x_var); plt.ylabel(y_var)\n",
        "    plt.title(f'Dispersión: {x_var} vs {y_var}')\n",
        "    plt.show()\n",
        "else:\n",
        "    print(\"Define x_var y y_var con nombres de columnas numéricas distintas.\")"
      ],
      "metadata": {
        "id": "3X33L2baO_Bx"
      },
      "execution_count": null,
      "outputs": []
    },
    {
      "cell_type": "markdown",
      "source": [
        "# **EJERCICIO 2**"
      ],
      "metadata": {
        "id": "O6Xt62FGWMj3"
      }
    },
    {
      "cell_type": "code",
      "source": [
        "# %%\n",
        "# 📥 Lectura de archivos\n",
        "DATA_PATH = Path('.')  # en Colab: '.' es el directorio de trabajo\n",
        "file_main    = DATA_PATH / 'state.csv'\n",
        "\n",
        "\n",
        "df_state = pd.read_csv(file_main)\n",
        "\n",
        "\n",
        "print('Tamaños:')\n",
        "print('state:', df_state.shape)\n",
        "\n",
        "\n",
        "print(\"\\nPrimeras filas de sp500_data:\")\n",
        "display(df_state.head())\n"
      ],
      "metadata": {
        "id": "3MFZHabjVyK6"
      },
      "execution_count": null,
      "outputs": []
    },
    {
      "cell_type": "code",
      "source": [
        "# %%\n",
        "# 📊 Estadísticos descriptivos\n",
        "desc = df_state.describe(include='all').T\n",
        "display(desc)\n",
        "\n"
      ],
      "metadata": {
        "id": "-Y5v9JzSV-ig"
      },
      "execution_count": null,
      "outputs": []
    },
    {
      "cell_type": "code",
      "source": [
        "# Variabilidad y percentiles de Population y Murder.Rate\n",
        "variability = pd.DataFrame({\n",
        "    'mean': df_state[['Population','Murder.Rate']].mean(),\n",
        "    'std': df_state[['Population','Murder.Rate']].std(),\n",
        "    'var': df_state[['Population','Murder.Rate']].var(),\n",
        "    'q1': df_state[['Population','Murder.Rate']].quantile(0.25),\n",
        "    'median': df_state[['Population','Murder.Rate']].median(),\n",
        "    'q3': df_state[['Population','Murder.Rate']].quantile(0.75),\n",
        "    'min': df_state[['Population','Murder.Rate']].min(),\n",
        "    'max': df_state[['Population','Murder.Rate']].max(),\n",
        "    'skew': df_state[['Population','Murder.Rate']].skew(),\n",
        "    'kurt': df_state[['Population','Murder.Rate']].kurt()\n",
        "})\n",
        "display(variability)"
      ],
      "metadata": {
        "id": "Ofv4EVR1WCB_"
      },
      "execution_count": null,
      "outputs": []
    },
    {
      "cell_type": "code",
      "source": [
        "# %%\n",
        "# 🚨 Boxplots para ver dispersión y outliers\n",
        "for col in ['Population','Murder.Rate']:\n",
        "    plt.figure()\n",
        "    plt.boxplot(df_state[col], vert=True)\n",
        "    plt.title(f'Boxplot de {col}')\n",
        "    plt.ylabel(col)\n",
        "    plt.show()\n"
      ],
      "metadata": {
        "id": "Vhj7VxHnWa4g"
      },
      "execution_count": null,
      "outputs": []
    },
    {
      "cell_type": "code",
      "source": [
        "# %%\n",
        "# 📋 Tablas de frecuencias por rangos de población\n",
        "# Definimos intervalos (bins) de población\n",
        "bins = [0, 2_000_000, 5_000_000, 10_000_000, 20_000_000, 40_000_000]\n",
        "labels = ['0-2M','2-5M','5-10M','10-20M','20-40M']\n",
        "\n",
        "df_state['PopRange'] = pd.cut(df_state['Population'], bins=bins, labels=labels, include_lowest=True)\n",
        "\n",
        "freq_abs = df_state['PopRange'].value_counts().sort_index()\n",
        "freq_rel = df_state['PopRange'].value_counts(normalize=True).sort_index()\n",
        "\n",
        "freq_table = pd.DataFrame({'Frecuencia Absoluta': freq_abs, 'Frecuencia Relativa': freq_rel.round(3)})\n",
        "display(freq_table)\n"
      ],
      "metadata": {
        "id": "uOS02FcFWc7w"
      },
      "execution_count": null,
      "outputs": []
    },
    {
      "cell_type": "code",
      "source": [
        "# %%\n",
        "# 📉 Histogramas con curva normal teórica\n",
        "\n",
        "from scipy.stats import norm\n",
        "import numpy as np\n",
        "\n",
        "# --- Population ---\n",
        "plt.figure()\n",
        "# Histograma con densidad\n",
        "df_state['Population'].hist(bins=10, density=True, alpha=0.6)\n",
        "\n",
        "# Parámetros de la normal\n",
        "mu, sigma = df_state['Population'].mean(), df_state['Population'].std()\n",
        "\n",
        "# Rango de valores\n",
        "x = np.linspace(df_state['Population'].min(), df_state['Population'].max(), 200)\n",
        "plt.plot(x, norm.pdf(x, mu, sigma), 'r-', lw=2, label='Curva normal')\n",
        "\n",
        "plt.title('Histograma de Population con curva normal')\n",
        "plt.xlabel('Population')\n",
        "plt.ylabel('Densidad')\n",
        "plt.legend()\n",
        "plt.show()\n",
        "\n",
        "\n",
        "# --- Murder.Rate ---\n",
        "plt.figure()\n",
        "df_state['Murder.Rate'].hist(bins=10, density=True, alpha=0.6)\n",
        "\n",
        "mu, sigma = df_state['Murder.Rate'].mean(), df_state['Murder.Rate'].std()\n",
        "x = np.linspace(df_state['Murder.Rate'].min(), df_state['Murder.Rate'].max(), 200)\n",
        "plt.plot(x, norm.pdf(x, mu, sigma), 'r-', lw=2, label='Curva normal')\n",
        "\n",
        "plt.title('Histograma de Murder.Rate con curva normal')\n",
        "plt.xlabel('Murder.Rate')\n",
        "plt.ylabel('Densidad')\n",
        "plt.legend()\n",
        "plt.show()\n"
      ],
      "metadata": {
        "id": "AiDICL7OWmSr"
      },
      "execution_count": null,
      "outputs": []
    },
    {
      "cell_type": "code",
      "source": [
        "# %%\n",
        "# 🔥 Mapa de calor: Estados vs (Population, Murder.Rate) ordenado por tasa de asesinatos\n",
        "# Ordenamos de menor a mayor tasa de asesinatos\n",
        "df_sorted = df_state.sort_values('Murder.Rate', ascending=False).reset_index(drop=True)\n",
        "\n",
        "# Seleccionamos columnas numéricas a mostrar\n",
        "heat_data = df_sorted[['Population', 'Murder.Rate']]\n",
        "\n",
        "plt.figure(figsize=(8, 12))\n",
        "plt.imshow(heat_data, aspect='auto', cmap='YlOrRd')\n",
        "plt.colorbar(label='Valor')\n",
        "\n",
        "# Etiquetas de ejes\n",
        "plt.xticks(range(heat_data.shape[1]), heat_data.columns, rotation=45)\n",
        "plt.yticks(range(len(df_sorted['State'])), df_sorted['State'])\n",
        "\n",
        "# Anotar los valores dentro de cada celda\n",
        "for i in range(heat_data.shape[0]):  # filas (estados)\n",
        "    for j in range(heat_data.shape[1]):  # columnas (variables)\n",
        "        val = heat_data.iloc[i, j]\n",
        "        plt.text(j, i,\n",
        "                 f\"{val:,.0f}\" if j == 0 else f\"{val:.1f}\",  # formato distinto para población y asesinatos\n",
        "                 ha=\"center\", va=\"center\", color=\"black\", fontsize=8)\n",
        "\n",
        "plt.title(\"Mapa de calor: Estados ordenados por tasa de asesinatos\")\n",
        "plt.tight_layout()\n",
        "plt.show()\n",
        "\n",
        "\n"
      ],
      "metadata": {
        "id": "imxkHfqGW4Mj"
      },
      "execution_count": null,
      "outputs": []
    },
    {
      "cell_type": "code",
      "source": [
        "# %%\n",
        "# 🎯 Gráfico de dispersión\n",
        "plt.figure()\n",
        "plt.scatter(df_state['Population'], df_state['Murder.Rate'])\n",
        "plt.xlabel(\"Population\")\n",
        "plt.ylabel(\"Murder.Rate\")\n",
        "plt.title(\"Dispersión: Population vs Murder.Rate\")\n",
        "plt.show()\n"
      ],
      "metadata": {
        "id": "gfMSlvBvW7Rz"
      },
      "execution_count": null,
      "outputs": []
    },
    {
      "cell_type": "code",
      "source": [
        "# %%\n",
        "# 🎯 Gráfico de dispersión con etiquetas de los estados\n",
        "plt.figure(figsize=(10,6))\n",
        "plt.scatter(df_state['Population'], df_state['Murder.Rate'])\n",
        "\n",
        "# Etiquetas de los estados\n",
        "for i, row in df_state.iterrows():\n",
        "    plt.text(row['Population'], row['Murder.Rate'], row['State'], fontsize=8)\n",
        "\n",
        "plt.xlabel(\"Population\")\n",
        "plt.ylabel(\"Murder.Rate\")\n",
        "plt.title(\"Dispersión: Population vs Murder.Rate (con etiquetas)\")\n",
        "plt.show()\n"
      ],
      "metadata": {
        "id": "gxkt95i9XFzI"
      },
      "execution_count": null,
      "outputs": []
    }
  ]
}