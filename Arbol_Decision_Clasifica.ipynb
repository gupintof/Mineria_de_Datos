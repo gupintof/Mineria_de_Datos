{
  "nbformat": 4,
  "nbformat_minor": 0,
  "metadata": {
    "colab": {
      "provenance": []
    },
    "kernelspec": {
      "name": "python3",
      "display_name": "Python 3"
    },
    "language_info": {
      "name": "python"
    }
  },
  "cells": [
    {
      "cell_type": "code",
      "execution_count": null,
      "metadata": {
        "id": "4B2qmPbMvrNk"
      },
      "outputs": [],
      "source": [
        "# ============================================================\n",
        "# 📌 Celda 1: Instalación y carga de librerías\n",
        "# ============================================================\n",
        "#!pip install scikit-learn matplotlib seaborn pandas\n"
      ]
    },
    {
      "cell_type": "code",
      "source": [
        "# ============================================================\n",
        "# 📌 Celda 2: Importar librerías\n",
        "# ============================================================\n",
        "import numpy as np\n",
        "import pandas as pd\n",
        "import matplotlib.pyplot as plt\n",
        "import seaborn as sns\n",
        "\n",
        "from sklearn.model_selection import train_test_split\n",
        "from sklearn.tree import DecisionTreeClassifier, plot_tree\n",
        "from sklearn.metrics import accuracy_score, classification_report, confusion_matrix\n"
      ],
      "metadata": {
        "id": "OOESvrRTv1PU"
      },
      "execution_count": null,
      "outputs": []
    },
    {
      "cell_type": "code",
      "source": [
        "# ============================================================\n",
        "# 📌 Celda 3: Cargar dataset (Wine Quality - Vino Tinto)\n",
        "# ============================================================\n",
        "url = \"https://archive.ics.uci.edu/ml/machine-learning-databases/wine-quality/winequality-red.csv\"\n",
        "wine = pd.read_csv(url, sep=\";\")\n",
        "wine[\"quality\"].value_counts()\n",
        "\n"
      ],
      "metadata": {
        "id": "IzqWBS1cv3t3"
      },
      "execution_count": null,
      "outputs": []
    },
    {
      "cell_type": "code",
      "source": [
        "wine.head()"
      ],
      "metadata": {
        "id": "QCAKj8cXyrGw"
      },
      "execution_count": null,
      "outputs": []
    },
    {
      "cell_type": "code",
      "source": [
        "# Creamos variable binaria: calidad buena (>=6) vs mala (<6)\n",
        "wine[\"quality_label\"] = (wine[\"quality\"] >= 6).astype(int)\n",
        "\n",
        "X = wine.drop(columns=[\"quality\", \"quality_label\"])\n",
        "y = wine[\"quality_label\"]"
      ],
      "metadata": {
        "id": "uNHlejTtyOZr"
      },
      "execution_count": null,
      "outputs": []
    },
    {
      "cell_type": "code",
      "source": [
        "print(\"Dimensiones de X:\", X.shape)\n",
        "print(\"Distribución de clases:\\n\", y.value_counts(normalize=True))\n",
        "\n",
        "wine.head()"
      ],
      "metadata": {
        "id": "KJkJW8GSyL5Z"
      },
      "execution_count": null,
      "outputs": []
    },
    {
      "cell_type": "code",
      "source": [
        "# ============================================================\n",
        "# 📌 Celda 4: Dividir datos en entrenamiento y prueba\n",
        "# ============================================================\n",
        "X_train, X_test, y_train, y_test = train_test_split(\n",
        "    X, y, test_size=0.3, random_state=42, stratify=y\n",
        ")\n",
        "\n",
        "print(\"Tamaño entrenamiento:\", X_train.shape)\n",
        "print(\"Tamaño prueba:\", X_test.shape)\n"
      ],
      "metadata": {
        "id": "iMz53rmfv_tN"
      },
      "execution_count": null,
      "outputs": []
    },
    {
      "cell_type": "code",
      "source": [
        "# ============================================================\n",
        "# 📌 Celda 5: Árbol \"grande\" con Gini (sin poda)\n",
        "# ============================================================\n",
        "clf_big_gini = DecisionTreeClassifier(criterion=\"gini\", random_state=42)\n",
        "clf_big_gini.fit(X_train, y_train)\n",
        "\n",
        "y_train_pred = clf_big_gini.predict(X_train)\n",
        "y_test_pred = clf_big_gini.predict(X_test)\n",
        "\n",
        "print(\"🔹 Árbol grande - Gini (sin poda)\")\n",
        "print(\"Accuracy Entrenamiento:\", accuracy_score(y_train, y_train_pred))\n",
        "print(\"Accuracy Prueba:\", accuracy_score(y_test, y_test_pred))\n",
        "\n"
      ],
      "metadata": {
        "id": "Wys1U7o8wDiO"
      },
      "execution_count": null,
      "outputs": []
    },
    {
      "cell_type": "code",
      "source": [
        "# 📌 Reporte de métricas en el set de prueba\n",
        "print(\"\\nReporte en test:\\n\", classification_report(y_test, y_test_pred, target_names=[\"Mala\",\"Buena\"]))\n",
        "\n",
        "# 📌 Matriz de confusión\n",
        "sns.heatmap(confusion_matrix(y_test, y_test_pred), annot=True, cmap=\"Blues\",\n",
        "            xticklabels=[\"Mala\",\"Buena\"], yticklabels=[\"Mala\",\"Buena\"])\n",
        "plt.xlabel(\"Predicción\")\n",
        "plt.ylabel(\"Real\")\n",
        "plt.title(\"Matriz de confusión - Árbol grande (Gini)\")\n",
        "plt.show()"
      ],
      "metadata": {
        "id": "XlyN32ARzO1G"
      },
      "execution_count": null,
      "outputs": []
    },
    {
      "cell_type": "code",
      "source": [
        "# 📌 Visualización del árbol completo\n",
        "plt.figure(figsize=(20,10))\n",
        "plot_tree(clf_big_gini, filled=True, feature_names=X.columns, class_names=[\"Mala\",\"Buena\"], fontsize=8)\n",
        "plt.title(\"Árbol grande (sin poda, criterio Gini)\")\n",
        "plt.show()"
      ],
      "metadata": {
        "id": "luZ4-F1L0dsM"
      },
      "execution_count": null,
      "outputs": []
    },
    {
      "cell_type": "code",
      "source": [
        "# Ejemplo de interpretación de un nodo del árbol:\n",
        "#\n",
        "# alcohol <= 10.525\n",
        "# 👉 La característica usada para dividir en este nodo es \"alcohol\".\n",
        "#    Si el valor de alcohol es <= 10.525, el caso va a la rama izquierda.\n",
        "#    Si es mayor a 10.525, el caso va a la rama derecha.\n",
        "#\n",
        "# gini = 0.498\n",
        "# 👉 Impureza Gini del nodo.\n",
        "#    El valor va de 0 (puro, todas las muestras de la misma clase) a 0.5 (mezcla máxima en binario).\n",
        "#    Aquí 0.498 indica que las clases están casi balanceadas (mitad y mitad).\n",
        "#\n",
        "# samples = 1119\n",
        "# 👉 Número total de muestras (filas del dataset) que llegan a este nodo.\n",
        "#\n",
        "# value = [521.0, 598.0]\n",
        "# 👉 Distribución de clases en este nodo:\n",
        "#    - 521 vinos son de la clase \"Mala\" (0).\n",
        "#    - 598 vinos son de la clase \"Buena\" (1).\n",
        "#\n",
        "# class = Buena\n",
        "# 👉 Clase mayoritaria en este nodo.\n",
        "#    Como 598 > 521, la predicción por defecto en este nodo sería \"Buena\".\n"
      ],
      "metadata": {
        "id": "Eda1zQ3b104t"
      },
      "execution_count": null,
      "outputs": []
    },
    {
      "cell_type": "code",
      "source": [
        "# ============================================================\n",
        "# 📌 Celda 6: Poda con max_depth\n",
        "# ============================================================\n",
        "clf_pruned = DecisionTreeClassifier(criterion=\"gini\", max_depth=5, random_state=42)\n",
        "clf_pruned.fit(X_train, y_train)\n",
        "\n",
        "y_train_pred_pruned = clf_pruned.predict(X_train)\n",
        "y_test_pred_pruned = clf_pruned.predict(X_test)\n",
        "\n",
        "print(\"🔹 Árbol podado - Gini (max_depth=5)\")\n",
        "print(\"Accuracy Entrenamiento:\", accuracy_score(y_train, y_train_pred_pruned))\n",
        "print(\"Accuracy Prueba:\", accuracy_score(y_test, y_test_pred_pruned))\n",
        "\n",
        "# 📌 Visualización del árbol podado\n",
        "plt.figure(figsize=(20,10))\n",
        "plot_tree(clf_pruned, filled=True, feature_names=X.columns, class_names=[\"Mala\",\"Buena\"], fontsize=10)\n",
        "plt.title(\"Árbol podado (max_depth=5, criterio Gini)\")\n",
        "plt.show()\n",
        "\n"
      ],
      "metadata": {
        "id": "Dnl1oJAlwHDs"
      },
      "execution_count": null,
      "outputs": []
    },
    {
      "cell_type": "code",
      "source": [
        "# ============================================================\n",
        "# 📌 Celda 7: Cambiar criterio a \"Entropía\"\n",
        "# ============================================================\n",
        "clf_entropy = DecisionTreeClassifier(criterion=\"entropy\", max_depth=5, random_state=42)\n",
        "clf_entropy.fit(X_train, y_train)\n",
        "\n",
        "y_pred_entropy = clf_entropy.predict(X_test)\n",
        "\n",
        "print(\"🔹 Árbol podado - Entropía (max_depth=5)\")\n",
        "print(\"Accuracy en test:\", accuracy_score(y_test, y_pred_entropy))\n",
        "\n",
        "# 📌 Visualización del árbol con entropía\n",
        "plt.figure(figsize=(20,10))\n",
        "plot_tree(clf_entropy, filled=True, feature_names=X.columns, class_names=[\"Mala\",\"Buena\"], fontsize=10)\n",
        "plt.title(\"Árbol podado (max_depth=5, criterio Entropía)\")\n",
        "plt.show()\n",
        "\n",
        "# 📌 Explicación:\n",
        "# - El valor por defecto en DecisionTreeClassifier es \"gini\".\n",
        "# - Gini mide la probabilidad de clasificar mal un ejemplo si se elige aleatoriamente según la distribución de clases.\n",
        "# - Entropía mide la incertidumbre (teoría de la información).\n",
        "# - Efectos:\n",
        "#   Gini → más rápido de calcular, favorece clases mayoritarias.\n",
        "#   Entropía → puede equilibrar mejor divisiones si hay varias clases.\n",
        "# - En la práctica, la diferencia de rendimiento suele ser pequeña.\n",
        "\n"
      ],
      "metadata": {
        "id": "sFrAa8olwNvp"
      },
      "execution_count": null,
      "outputs": []
    },
    {
      "cell_type": "code",
      "source": [
        "# ============================================================\n",
        "# 📌 Celda 8: Búsqueda sistemática de hiperparámetros con GridSearchCV\n",
        "# ============================================================\n",
        "from sklearn.model_selection import GridSearchCV\n",
        "\n",
        "# Definimos los hiperparámetros a explorar\n",
        "param_grid = {\n",
        "    \"criterion\": [\"gini\", \"entropy\"],      # función de impureza\n",
        "    \"max_depth\": [3, 5, 7, None],          # profundidad máxima\n",
        "    \"min_samples_split\": [2, 10, 20],      # mínimo de muestras para dividir\n",
        "    \"min_samples_leaf\": [1, 5, 10],        # mínimo de muestras por hoja\n",
        "    \"max_features\": [None, \"sqrt\", \"log2\"] # número máximo de variables a considerar en cada split\n",
        "}\n",
        "\n",
        "# Configuramos el GridSearch\n",
        "grid_search = GridSearchCV(\n",
        "    estimator=DecisionTreeClassifier(random_state=42),\n",
        "    param_grid=param_grid,\n",
        "    cv=5,                 # validación cruzada 5-fold\n",
        "    scoring=\"accuracy\",   # métrica a optimizar\n",
        "    n_jobs=-1             # usa todos los cores disponibles\n",
        ")\n",
        "\n",
        "# Ajustamos el modelo\n",
        "grid_search.fit(X_train, y_train)\n",
        "\n",
        "# Mejor modelo encontrado\n",
        "best_tree = grid_search.best_estimator_\n",
        "\n",
        "print(\"🔹 Mejor combinación de hiperparámetros:\", grid_search.best_params_)\n",
        "print(\"🔹 Mejor accuracy en validación cruzada:\", grid_search.best_score_)\n",
        "\n",
        "\n",
        "\n"
      ],
      "metadata": {
        "id": "0O1-lLLewT4E"
      },
      "execution_count": null,
      "outputs": []
    },
    {
      "cell_type": "code",
      "source": [
        "# Evaluamos en el set de test\n",
        "y_pred_best = best_tree.predict(X_test)\n",
        "\n",
        "print(\"\\nAccuracy en test:\", accuracy_score(y_test, y_pred_best))\n",
        "print(\"\\nReporte en test:\\n\", classification_report(y_test, y_pred_best, target_names=[\"Mala\",\"Buena\"]))\n",
        "\n",
        "# 📌 Matriz de confusión\n",
        "sns.heatmap(confusion_matrix(y_test, y_pred_best), annot=True, cmap=\"Purples\",\n",
        "            xticklabels=[\"Mala\",\"Buena\"], yticklabels=[\"Mala\",\"Buena\"])\n",
        "plt.xlabel(\"Predicción\")\n",
        "plt.ylabel(\"Real\")\n",
        "plt.title(\"Matriz de confusión - Árbol optimizado con GridSearchCV\")\n",
        "plt.show()\n",
        "\n"
      ],
      "metadata": {
        "id": "PtoRb0_B2F9a"
      },
      "execution_count": null,
      "outputs": []
    },
    {
      "cell_type": "code",
      "source": [
        "# 📌 Visualización del mejor árbol\n",
        "plt.figure(figsize=(20,10))\n",
        "plot_tree(best_tree, filled=True, feature_names=X.columns, class_names=[\"Mala\",\"Buena\"], fontsize=9)\n",
        "plt.title(\"Árbol optimizado con GridSearchCV\")\n",
        "plt.show()"
      ],
      "metadata": {
        "id": "iW1MQgvK2ETG"
      },
      "execution_count": null,
      "outputs": []
    },
    {
      "cell_type": "code",
      "source": [
        "# ============================================================\n",
        "# 📌 Celda 9: Comparación final de modelos\n",
        "# ============================================================\n",
        "acc_results = {\n",
        "    \"Árbol grande (Gini)\": accuracy_score(y_test, y_test_pred),\n",
        "    \"Árbol podado (Gini)\": accuracy_score(y_test, y_test_pred_pruned),\n",
        "    \"Árbol podado (Entropía)\": accuracy_score(y_test, y_pred_entropy),\n",
        "    \"Árbol optimizado (GridSearchCV)\": accuracy_score(y_test, y_pred_best),\n",
        "}\n",
        "\n",
        "for modelo, acc in acc_results.items():\n",
        "    print(f\"{modelo}: {acc:.4f}\")\n",
        "\n"
      ],
      "metadata": {
        "id": "_DZNdmbWwWbK"
      },
      "execution_count": null,
      "outputs": []
    },
    {
      "cell_type": "code",
      "source": [
        "# ============================================================\n",
        "# 📌 Celda 10: Comparación Train vs Test Accuracy\n",
        "# ============================================================\n",
        "\n",
        "# Accuracy en entrenamiento\n",
        "train_acc_results = {\n",
        "    \"Árbol grande (Gini)\": accuracy_score(y_train, y_train_pred),\n",
        "    \"Árbol podado (Gini)\": accuracy_score(y_train, y_train_pred_pruned),\n",
        "    \"Árbol podado (Entropía)\": accuracy_score(y_train, clf_entropy.predict(X_train)),\n",
        "    \"Árbol optimizado (GridSearchCV)\": accuracy_score(y_train, best_tree.predict(X_train)),\n",
        "}\n",
        "\n",
        "# Accuracy en prueba (ya calculado en Celda 9)\n",
        "test_acc_results = acc_results\n",
        "\n",
        "# Convertimos a DataFrame para graficar\n",
        "df_acc = pd.DataFrame({\n",
        "    \"Train\": train_acc_results,\n",
        "    \"Test\": test_acc_results\n",
        "}).T  # transponemos para que los modelos queden como filas\n",
        "\n",
        "# 📊 Gráfico comparativo con etiquetas\n",
        "ax = df_acc.plot(kind=\"bar\", figsize=(10,6), rot=15, color=[\"skyblue\",\"salmon\"])\n",
        "plt.ylabel(\"Accuracy\")\n",
        "plt.title(\"Comparación Accuracy en Train vs Test - Árboles de Decisión\")\n",
        "plt.ylim(0,1)\n",
        "plt.legend(title=\"Conjunto\")\n",
        "\n",
        "# Añadimos etiquetas numéricas encima de cada barra\n",
        "for p in ax.patches:\n",
        "    ax.annotate(\n",
        "        f\"{p.get_height():.2f}\",             # texto con 2 decimales\n",
        "        (p.get_x() + p.get_width() / 2, p.get_height()), # posición\n",
        "        ha=\"center\", va=\"bottom\", fontsize=9, color=\"black\", xytext=(0,3), textcoords=\"offset points\"\n",
        "    )\n",
        "\n",
        "plt.show()\n",
        "\n"
      ],
      "metadata": {
        "id": "hQsFmNGIwZZ9"
      },
      "execution_count": null,
      "outputs": []
    },
    {
      "cell_type": "markdown",
      "source": [
        "## 📌 Conclusión\n",
        "\n",
        "Aunque el **árbol optimizado con GridSearchCV** muestra el **menor accuracy en el set de prueba**, es el modelo más recomendable porque alcanza un mejor equilibrio entre **complejidad y capacidad de generalización**.  \n",
        "El **árbol grande con Gini** logra la mayor exactitud, pero lo hace a costa de un **sobreajuste evidente**: memoriza en exceso el conjunto de entrenamiento y pierde robustez ante datos nuevos.  \n",
        "\n",
        "En cambio, el **árbol optimizado** ha sido ajustado mediante **validación cruzada**, lo que asegura que su desempeño no dependa de un único set de datos, sino que refleje un comportamiento más **estable, consistente e interpretable**.  \n",
        "En aplicaciones reales, donde los datos futuros nunca son idénticos a los de entrenamiento, es preferible un modelo con un accuracy ligeramente menor, pero que sea mucho más **confiable y generalizable**.\n"
      ],
      "metadata": {
        "id": "F04XESuY4jYb"
      }
    }
  ]
}